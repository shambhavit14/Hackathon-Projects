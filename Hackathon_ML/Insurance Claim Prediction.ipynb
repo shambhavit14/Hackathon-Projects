{
 "cells": [
  {
   "cell_type": "code",
   "execution_count": 1,
   "metadata": {},
   "outputs": [],
   "source": [
    "import numpy as np\n",
    "import pandas as pd\n",
    "import matplotlib.pyplot as plt\n",
    "import seaborn as sns\n",
    "%matplotlib inline\n",
    "import warnings\n",
    "warnings.filterwarnings('ignore')\n",
    "from sklearn.model_selection import train_test_split\n",
    "\n",
    "from sklearn.preprocessing import LabelEncoder\n",
    "from sklearn.preprocessing import StandardScaler\n",
    "from sklearn.linear_model import LogisticRegression\n",
    "from sklearn.tree import DecisionTreeClassifier\n",
    "from sklearn.ensemble import RandomForestClassifier\n",
    "from sklearn.model_selection import GridSearchCV\n",
    "from sklearn.ensemble import BaggingClassifier\n",
    "from sklearn.svm import SVC\n",
    "from sklearn.ensemble import AdaBoostClassifier\n",
    "from xgboost import XGBClassifier\n",
    "from sklearn.metrics import recall_score,accuracy_score,classification_report,f1_score,confusion_matrix,precision_score,roc_auc_score,roc_curve"
   ]
  },
  {
   "cell_type": "markdown",
   "metadata": {},
   "source": [
    "LOAD DATA"
   ]
  },
  {
   "cell_type": "code",
   "execution_count": 2,
   "metadata": {},
   "outputs": [],
   "source": [
    "data_train = pd.read_csv('./train.csv')\n",
    "data_test = pd.read_csv('./test.csv')"
   ]
  },
  {
   "cell_type": "code",
   "execution_count": 3,
   "metadata": {},
   "outputs": [],
   "source": [
    "data_test1 = data_test['ID']"
   ]
  },
  {
   "cell_type": "code",
   "execution_count": 4,
   "metadata": {},
   "outputs": [
    {
     "data": {
      "text/plain": [
       "ID                          0\n",
       "Agency                      0\n",
       "Agency Type                 0\n",
       "Distribution Channel        0\n",
       "Product Name                0\n",
       "Claim                       0\n",
       "Duration                    0\n",
       "Destination                 0\n",
       "Net Sales                   0\n",
       "Commision (in value)        0\n",
       "Gender                  35953\n",
       "Age                         0\n",
       "dtype: int64"
      ]
     },
     "execution_count": 4,
     "metadata": {},
     "output_type": "execute_result"
    }
   ],
   "source": [
    "data_train.isnull().sum()"
   ]
  },
  {
   "cell_type": "markdown",
   "metadata": {},
   "source": [
    "FEATURE ENGINEERING"
   ]
  },
  {
   "cell_type": "code",
   "execution_count": 5,
   "metadata": {},
   "outputs": [],
   "source": [
    "#Removing gender and id columns\n",
    "data_train = data_train.drop(['ID','Gender'],axis=1)\n",
    "data_test = data_test.drop(['ID','Gender'],axis=1)"
   ]
  },
  {
   "cell_type": "code",
   "execution_count": 6,
   "metadata": {
    "scrolled": true
   },
   "outputs": [
    {
     "data": {
      "text/html": [
       "<div>\n",
       "<style scoped>\n",
       "    .dataframe tbody tr th:only-of-type {\n",
       "        vertical-align: middle;\n",
       "    }\n",
       "\n",
       "    .dataframe tbody tr th {\n",
       "        vertical-align: top;\n",
       "    }\n",
       "\n",
       "    .dataframe thead th {\n",
       "        text-align: right;\n",
       "    }\n",
       "</style>\n",
       "<table border=\"1\" class=\"dataframe\">\n",
       "  <thead>\n",
       "    <tr style=\"text-align: right;\">\n",
       "      <th></th>\n",
       "      <th>Agency</th>\n",
       "      <th>Agency Type</th>\n",
       "      <th>Distribution Channel</th>\n",
       "      <th>Product Name</th>\n",
       "      <th>Claim</th>\n",
       "      <th>Duration</th>\n",
       "      <th>Destination</th>\n",
       "      <th>Net Sales</th>\n",
       "      <th>Commision (in value)</th>\n",
       "      <th>Age</th>\n",
       "    </tr>\n",
       "  </thead>\n",
       "  <tbody>\n",
       "    <tr>\n",
       "      <th>0</th>\n",
       "      <td>CWT</td>\n",
       "      <td>Travel Agency</td>\n",
       "      <td>Online</td>\n",
       "      <td>Rental Vehicle Excess Insurance</td>\n",
       "      <td>0</td>\n",
       "      <td>7</td>\n",
       "      <td>MALAYSIA</td>\n",
       "      <td>0.0</td>\n",
       "      <td>17.82</td>\n",
       "      <td>31</td>\n",
       "    </tr>\n",
       "    <tr>\n",
       "      <th>1</th>\n",
       "      <td>EPX</td>\n",
       "      <td>Travel Agency</td>\n",
       "      <td>Online</td>\n",
       "      <td>Cancellation Plan</td>\n",
       "      <td>0</td>\n",
       "      <td>85</td>\n",
       "      <td>SINGAPORE</td>\n",
       "      <td>69.0</td>\n",
       "      <td>0.00</td>\n",
       "      <td>36</td>\n",
       "    </tr>\n",
       "    <tr>\n",
       "      <th>2</th>\n",
       "      <td>CWT</td>\n",
       "      <td>Travel Agency</td>\n",
       "      <td>Online</td>\n",
       "      <td>Rental Vehicle Excess Insurance</td>\n",
       "      <td>0</td>\n",
       "      <td>11</td>\n",
       "      <td>MALAYSIA</td>\n",
       "      <td>19.8</td>\n",
       "      <td>11.88</td>\n",
       "      <td>75</td>\n",
       "    </tr>\n",
       "    <tr>\n",
       "      <th>3</th>\n",
       "      <td>EPX</td>\n",
       "      <td>Travel Agency</td>\n",
       "      <td>Online</td>\n",
       "      <td>2 way Comprehensive Plan</td>\n",
       "      <td>0</td>\n",
       "      <td>16</td>\n",
       "      <td>INDONESIA</td>\n",
       "      <td>20.0</td>\n",
       "      <td>0.00</td>\n",
       "      <td>32</td>\n",
       "    </tr>\n",
       "    <tr>\n",
       "      <th>4</th>\n",
       "      <td>EPX</td>\n",
       "      <td>Travel Agency</td>\n",
       "      <td>Online</td>\n",
       "      <td>Cancellation Plan</td>\n",
       "      <td>0</td>\n",
       "      <td>10</td>\n",
       "      <td>KOREA, REPUBLIC OF</td>\n",
       "      <td>15.0</td>\n",
       "      <td>0.00</td>\n",
       "      <td>29</td>\n",
       "    </tr>\n",
       "  </tbody>\n",
       "</table>\n",
       "</div>"
      ],
      "text/plain": [
       "  Agency    Agency Type Distribution Channel                     Product Name  \\\n",
       "0    CWT  Travel Agency               Online  Rental Vehicle Excess Insurance   \n",
       "1    EPX  Travel Agency               Online                Cancellation Plan   \n",
       "2    CWT  Travel Agency               Online  Rental Vehicle Excess Insurance   \n",
       "3    EPX  Travel Agency               Online         2 way Comprehensive Plan   \n",
       "4    EPX  Travel Agency               Online                Cancellation Plan   \n",
       "\n",
       "   Claim  Duration         Destination  Net Sales  Commision (in value)  Age  \n",
       "0      0         7            MALAYSIA        0.0                 17.82   31  \n",
       "1      0        85           SINGAPORE       69.0                  0.00   36  \n",
       "2      0        11            MALAYSIA       19.8                 11.88   75  \n",
       "3      0        16           INDONESIA       20.0                  0.00   32  \n",
       "4      0        10  KOREA, REPUBLIC OF       15.0                  0.00   29  "
      ]
     },
     "execution_count": 6,
     "metadata": {},
     "output_type": "execute_result"
    }
   ],
   "source": [
    "data_train.head()"
   ]
  },
  {
   "cell_type": "code",
   "execution_count": 7,
   "metadata": {},
   "outputs": [],
   "source": [
    "data_train.loc[(data_train['Age']>99),'Age'] = 99"
   ]
  },
  {
   "cell_type": "code",
   "execution_count": 8,
   "metadata": {},
   "outputs": [],
   "source": [
    "data_test.loc[(data_test['Age']>99),'Age'] = 99"
   ]
  },
  {
   "cell_type": "code",
   "execution_count": 9,
   "metadata": {},
   "outputs": [],
   "source": [
    "data_train.loc[(data_train['Age'] < 16)&(data_train['Duration'] >183) |(data_train['Age'] >50 )&(data_train['Duration'] >183),'Duration'] = 183"
   ]
  },
  {
   "cell_type": "code",
   "execution_count": 10,
   "metadata": {},
   "outputs": [],
   "source": [
    "data_test.loc[(data_test['Age'] < 16)&(data_test['Duration'] >183) |(data_test['Age'] >50 )&(data_test['Duration'] >183),'Duration'] = 183"
   ]
  },
  {
   "cell_type": "code",
   "execution_count": 11,
   "metadata": {},
   "outputs": [],
   "source": [
    "data_train.loc[(data_train['Age'] <= 50)&(data_train['Age'] >=16 )& (data_train['Duration'] > 1095),'Duration'] = 1095"
   ]
  },
  {
   "cell_type": "code",
   "execution_count": 12,
   "metadata": {},
   "outputs": [],
   "source": [
    "data_test.loc[(data_test['Age'] <= 50)&(data_test['Age'] >=16 )& (data_test['Duration'] > 1095),'Duration'] = 1095"
   ]
  },
  {
   "cell_type": "code",
   "execution_count": 13,
   "metadata": {},
   "outputs": [
    {
     "data": {
      "text/html": [
       "<div>\n",
       "<style scoped>\n",
       "    .dataframe tbody tr th:only-of-type {\n",
       "        vertical-align: middle;\n",
       "    }\n",
       "\n",
       "    .dataframe tbody tr th {\n",
       "        vertical-align: top;\n",
       "    }\n",
       "\n",
       "    .dataframe thead th {\n",
       "        text-align: right;\n",
       "    }\n",
       "</style>\n",
       "<table border=\"1\" class=\"dataframe\">\n",
       "  <thead>\n",
       "    <tr style=\"text-align: right;\">\n",
       "      <th></th>\n",
       "      <th>Agency</th>\n",
       "      <th>Agency Type</th>\n",
       "      <th>Distribution Channel</th>\n",
       "      <th>Product Name</th>\n",
       "      <th>Claim</th>\n",
       "      <th>Duration</th>\n",
       "      <th>Destination</th>\n",
       "      <th>Net Sales</th>\n",
       "      <th>Commision (in value)</th>\n",
       "      <th>Age</th>\n",
       "    </tr>\n",
       "  </thead>\n",
       "  <tbody>\n",
       "    <tr>\n",
       "      <th>4063</th>\n",
       "      <td>JZI</td>\n",
       "      <td>Airlines</td>\n",
       "      <td>Online</td>\n",
       "      <td>Basic Plan</td>\n",
       "      <td>0</td>\n",
       "      <td>-1</td>\n",
       "      <td>BRUNEI DARUSSALAM</td>\n",
       "      <td>18.0</td>\n",
       "      <td>6.3</td>\n",
       "      <td>99</td>\n",
       "    </tr>\n",
       "    <tr>\n",
       "      <th>38935</th>\n",
       "      <td>JZI</td>\n",
       "      <td>Airlines</td>\n",
       "      <td>Online</td>\n",
       "      <td>Basic Plan</td>\n",
       "      <td>0</td>\n",
       "      <td>-1</td>\n",
       "      <td>INDONESIA</td>\n",
       "      <td>18.0</td>\n",
       "      <td>6.3</td>\n",
       "      <td>99</td>\n",
       "    </tr>\n",
       "    <tr>\n",
       "      <th>48367</th>\n",
       "      <td>JZI</td>\n",
       "      <td>Airlines</td>\n",
       "      <td>Online</td>\n",
       "      <td>Basic Plan</td>\n",
       "      <td>0</td>\n",
       "      <td>-2</td>\n",
       "      <td>BANGLADESH</td>\n",
       "      <td>22.0</td>\n",
       "      <td>7.7</td>\n",
       "      <td>99</td>\n",
       "    </tr>\n",
       "  </tbody>\n",
       "</table>\n",
       "</div>"
      ],
      "text/plain": [
       "      Agency Agency Type Distribution Channel Product Name  Claim  Duration  \\\n",
       "4063     JZI    Airlines               Online   Basic Plan      0        -1   \n",
       "38935    JZI    Airlines               Online   Basic Plan      0        -1   \n",
       "48367    JZI    Airlines               Online   Basic Plan      0        -2   \n",
       "\n",
       "             Destination  Net Sales  Commision (in value)  Age  \n",
       "4063   BRUNEI DARUSSALAM       18.0                   6.3   99  \n",
       "38935          INDONESIA       18.0                   6.3   99  \n",
       "48367         BANGLADESH       22.0                   7.7   99  "
      ]
     },
     "execution_count": 13,
     "metadata": {},
     "output_type": "execute_result"
    }
   ],
   "source": [
    "data_train[data_train['Duration'] < 0]"
   ]
  },
  {
   "cell_type": "code",
   "execution_count": 14,
   "metadata": {},
   "outputs": [
    {
     "name": "stdout",
     "output_type": "stream",
     "text": [
      "Mean DURATION for destination INDONESIA 15.64406779661017\n",
      "Mean DURATION for destination BANGLADESH 5.0\n",
      "Mean DURATION for destination BRUNEI DARUSSALAM 2.8\n"
     ]
    }
   ],
   "source": [
    "print('Mean DURATION for destination INDONESIA',data_train[(data_train['Agency'] == 'JZI') &(data_train['Agency Type'] == 'Airlines')&(data_train['Product Name'] == 'Basic Plan')&(data_train['Destination'] == 'INDONESIA')& (data_train['Claim'] ==0)& (data_train['Net Sales'] ==18.0)& (data_train['Commision (in value)'] ==6.3)]['Duration'].mean())\n",
    "print('Mean DURATION for destination BANGLADESH',data_train[(data_train['Agency'] == 'JZI') &(data_train['Agency Type'] == 'Airlines') &(data_train['Product Name'] == 'Basic Plan')&(data_train['Destination'] == 'BANGLADESH')& (data_train['Claim'] ==0)& (data_train['Net Sales'] ==22.0)& (data_train['Commision (in value)'] ==7.7)]['Duration'].mean())\n",
    "print('Mean DURATION for destination BRUNEI DARUSSALAM',data_train[(data_train['Agency'] == 'JZI') &(data_train['Agency Type'] == 'Airlines') &(data_train['Product Name'] == 'Basic Plan')&(data_train['Destination'] == 'BRUNEI DARUSSALAM')& (data_train['Claim'] ==0)& (data_train['Net Sales'] ==18.0)& (data_train['Commision (in value)'] ==6.3)]['Duration'].mean())"
   ]
  },
  {
   "cell_type": "code",
   "execution_count": 15,
   "metadata": {},
   "outputs": [],
   "source": [
    "data_train.loc[(data_train.Duration == -1) & (data_train.Destination == 'BRUNEI DARUSSALAM'), 'Duration'] = 3\n",
    "data_train.loc[data_train.Duration == -2, 'Duration'] = 5\n",
    "data_train.loc[(data_train.Duration == -1) & (data_train.Destination == 'INDONESIA'), 'Duration'] = 15"
   ]
  },
  {
   "cell_type": "code",
   "execution_count": 16,
   "metadata": {},
   "outputs": [
    {
     "data": {
      "text/html": [
       "<div>\n",
       "<style scoped>\n",
       "    .dataframe tbody tr th:only-of-type {\n",
       "        vertical-align: middle;\n",
       "    }\n",
       "\n",
       "    .dataframe tbody tr th {\n",
       "        vertical-align: top;\n",
       "    }\n",
       "\n",
       "    .dataframe thead th {\n",
       "        text-align: right;\n",
       "    }\n",
       "</style>\n",
       "<table border=\"1\" class=\"dataframe\">\n",
       "  <thead>\n",
       "    <tr style=\"text-align: right;\">\n",
       "      <th></th>\n",
       "      <th>Agency</th>\n",
       "      <th>Agency Type</th>\n",
       "      <th>Distribution Channel</th>\n",
       "      <th>Product Name</th>\n",
       "      <th>Duration</th>\n",
       "      <th>Destination</th>\n",
       "      <th>Net Sales</th>\n",
       "      <th>Commision (in value)</th>\n",
       "      <th>Age</th>\n",
       "    </tr>\n",
       "  </thead>\n",
       "  <tbody>\n",
       "    <tr>\n",
       "      <th>802</th>\n",
       "      <td>JZI</td>\n",
       "      <td>Airlines</td>\n",
       "      <td>Online</td>\n",
       "      <td>Basic Plan</td>\n",
       "      <td>-1</td>\n",
       "      <td>CHINA</td>\n",
       "      <td>22.0</td>\n",
       "      <td>7.7</td>\n",
       "      <td>99</td>\n",
       "    </tr>\n",
       "    <tr>\n",
       "      <th>4432</th>\n",
       "      <td>JZI</td>\n",
       "      <td>Airlines</td>\n",
       "      <td>Online</td>\n",
       "      <td>Basic Plan</td>\n",
       "      <td>-1</td>\n",
       "      <td>MALAYSIA</td>\n",
       "      <td>18.0</td>\n",
       "      <td>6.3</td>\n",
       "      <td>99</td>\n",
       "    </tr>\n",
       "  </tbody>\n",
       "</table>\n",
       "</div>"
      ],
      "text/plain": [
       "     Agency Agency Type Distribution Channel Product Name  Duration  \\\n",
       "802     JZI    Airlines               Online   Basic Plan        -1   \n",
       "4432    JZI    Airlines               Online   Basic Plan        -1   \n",
       "\n",
       "     Destination  Net Sales  Commision (in value)  Age  \n",
       "802        CHINA       22.0                   7.7   99  \n",
       "4432    MALAYSIA       18.0                   6.3   99  "
      ]
     },
     "execution_count": 16,
     "metadata": {},
     "output_type": "execute_result"
    }
   ],
   "source": [
    "data_test[data_test['Duration'] < 0]"
   ]
  },
  {
   "cell_type": "code",
   "execution_count": 17,
   "metadata": {},
   "outputs": [
    {
     "name": "stdout",
     "output_type": "stream",
     "text": [
      "Mean DURATION for destination CHINA 9.74468085106383\n",
      "Mean DURATION for destination MALAYSIA 13.68918918918919\n"
     ]
    }
   ],
   "source": [
    "print('Mean DURATION for destination CHINA',data_test[(data_test['Agency'] == 'JZI') &(data_test['Agency Type'] == 'Airlines')&(data_test['Product Name'] == 'Basic Plan')&(data_test['Destination'] == 'CHINA')& (data_test['Net Sales'] ==22.0)& (data_test['Commision (in value)'] ==7.7)]['Duration'].mean())\n",
    "print('Mean DURATION for destination MALAYSIA',data_test[(data_test['Agency'] == 'JZI') &(data_test['Agency Type'] == 'Airlines') &(data_test['Product Name'] == 'Basic Plan')&(data_test['Destination'] == 'MALAYSIA')& (data_test['Net Sales'] ==18.0)& (data_test['Commision (in value)'] ==6.3)]['Duration'].mean())"
   ]
  },
  {
   "cell_type": "code",
   "execution_count": 18,
   "metadata": {},
   "outputs": [],
   "source": [
    "data_test.loc[(data_test.Duration == -1) & (data_test.Destination == 'MALAYSIA'), 'Duration'] = 13\n",
    "data_test.loc[(data_test.Duration == -1) & (data_test.Destination == 'CHINA'), 'Duration'] = 9"
   ]
  },
  {
   "cell_type": "code",
   "execution_count": 19,
   "metadata": {},
   "outputs": [],
   "source": [
    "data_train.loc[(data_train['Net Sales'] <=0) & (data_train['Claim'] ==1), 'Net Sales'] = abs(data_train.loc[(data_train['Net Sales'] <=0) & (data_train['Claim'] ==1), 'Net Sales'])"
   ]
  },
  {
   "cell_type": "code",
   "execution_count": 20,
   "metadata": {},
   "outputs": [
    {
     "data": {
      "text/html": [
       "<div>\n",
       "<style scoped>\n",
       "    .dataframe tbody tr th:only-of-type {\n",
       "        vertical-align: middle;\n",
       "    }\n",
       "\n",
       "    .dataframe tbody tr th {\n",
       "        vertical-align: top;\n",
       "    }\n",
       "\n",
       "    .dataframe thead th {\n",
       "        text-align: right;\n",
       "    }\n",
       "</style>\n",
       "<table border=\"1\" class=\"dataframe\">\n",
       "  <thead>\n",
       "    <tr style=\"text-align: right;\">\n",
       "      <th></th>\n",
       "      <th>Claim</th>\n",
       "      <th>Duration</th>\n",
       "      <th>Net Sales</th>\n",
       "      <th>Commision (in value)</th>\n",
       "      <th>Age</th>\n",
       "    </tr>\n",
       "  </thead>\n",
       "  <tbody>\n",
       "    <tr>\n",
       "      <th>count</th>\n",
       "      <td>50553.000000</td>\n",
       "      <td>50553.000000</td>\n",
       "      <td>50553.000000</td>\n",
       "      <td>50553.00000</td>\n",
       "      <td>50553.000000</td>\n",
       "    </tr>\n",
       "    <tr>\n",
       "      <th>mean</th>\n",
       "      <td>0.014658</td>\n",
       "      <td>47.125373</td>\n",
       "      <td>40.803706</td>\n",
       "      <td>9.83809</td>\n",
       "      <td>39.712440</td>\n",
       "    </tr>\n",
       "    <tr>\n",
       "      <th>std</th>\n",
       "      <td>0.120180</td>\n",
       "      <td>70.948922</td>\n",
       "      <td>48.897405</td>\n",
       "      <td>19.91004</td>\n",
       "      <td>12.535205</td>\n",
       "    </tr>\n",
       "    <tr>\n",
       "      <th>min</th>\n",
       "      <td>0.000000</td>\n",
       "      <td>0.000000</td>\n",
       "      <td>-389.000000</td>\n",
       "      <td>0.00000</td>\n",
       "      <td>0.000000</td>\n",
       "    </tr>\n",
       "    <tr>\n",
       "      <th>25%</th>\n",
       "      <td>0.000000</td>\n",
       "      <td>9.000000</td>\n",
       "      <td>18.000000</td>\n",
       "      <td>0.00000</td>\n",
       "      <td>35.000000</td>\n",
       "    </tr>\n",
       "    <tr>\n",
       "      <th>50%</th>\n",
       "      <td>0.000000</td>\n",
       "      <td>22.000000</td>\n",
       "      <td>26.500000</td>\n",
       "      <td>0.00000</td>\n",
       "      <td>36.000000</td>\n",
       "    </tr>\n",
       "    <tr>\n",
       "      <th>75%</th>\n",
       "      <td>0.000000</td>\n",
       "      <td>53.000000</td>\n",
       "      <td>48.000000</td>\n",
       "      <td>11.55000</td>\n",
       "      <td>44.000000</td>\n",
       "    </tr>\n",
       "    <tr>\n",
       "      <th>max</th>\n",
       "      <td>1.000000</td>\n",
       "      <td>1095.000000</td>\n",
       "      <td>810.000000</td>\n",
       "      <td>283.50000</td>\n",
       "      <td>99.000000</td>\n",
       "    </tr>\n",
       "  </tbody>\n",
       "</table>\n",
       "</div>"
      ],
      "text/plain": [
       "              Claim      Duration     Net Sales  Commision (in value)  \\\n",
       "count  50553.000000  50553.000000  50553.000000           50553.00000   \n",
       "mean       0.014658     47.125373     40.803706               9.83809   \n",
       "std        0.120180     70.948922     48.897405              19.91004   \n",
       "min        0.000000      0.000000   -389.000000               0.00000   \n",
       "25%        0.000000      9.000000     18.000000               0.00000   \n",
       "50%        0.000000     22.000000     26.500000               0.00000   \n",
       "75%        0.000000     53.000000     48.000000              11.55000   \n",
       "max        1.000000   1095.000000    810.000000             283.50000   \n",
       "\n",
       "                Age  \n",
       "count  50553.000000  \n",
       "mean      39.712440  \n",
       "std       12.535205  \n",
       "min        0.000000  \n",
       "25%       35.000000  \n",
       "50%       36.000000  \n",
       "75%       44.000000  \n",
       "max       99.000000  "
      ]
     },
     "execution_count": 20,
     "metadata": {},
     "output_type": "execute_result"
    }
   ],
   "source": [
    "data_train.describe()"
   ]
  },
  {
   "cell_type": "code",
   "execution_count": 21,
   "metadata": {},
   "outputs": [],
   "source": [
    "data_train = data_train.drop_duplicates(keep= 'first')"
   ]
  },
  {
   "cell_type": "code",
   "execution_count": 22,
   "metadata": {
    "scrolled": true
   },
   "outputs": [
    {
     "name": "stdout",
     "output_type": "stream",
     "text": [
      "<class 'pandas.core.frame.DataFrame'>\n",
      "Int64Index: 44342 entries, 0 to 50552\n",
      "Data columns (total 10 columns):\n",
      "Agency                  44342 non-null object\n",
      "Agency Type             44342 non-null object\n",
      "Distribution Channel    44342 non-null object\n",
      "Product Name            44342 non-null object\n",
      "Claim                   44342 non-null int64\n",
      "Duration                44342 non-null int64\n",
      "Destination             44342 non-null object\n",
      "Net Sales               44342 non-null float64\n",
      "Commision (in value)    44342 non-null float64\n",
      "Age                     44342 non-null int64\n",
      "dtypes: float64(2), int64(3), object(5)\n",
      "memory usage: 3.7+ MB\n"
     ]
    }
   ],
   "source": [
    "data_train.info()"
   ]
  },
  {
   "cell_type": "code",
   "execution_count": 23,
   "metadata": {
    "scrolled": true
   },
   "outputs": [],
   "source": [
    "cat_cols=data_train.select_dtypes(['object'])\n",
    "num_cols=data_train.select_dtypes(['int64','float64']).drop('Claim', 1)"
   ]
  },
  {
   "cell_type": "markdown",
   "metadata": {},
   "source": [
    "EDA"
   ]
  },
  {
   "cell_type": "code",
   "execution_count": 24,
   "metadata": {},
   "outputs": [
    {
     "data": {
      "image/png": "[encoded data removed]",
      "text/plain": [
       "<Figure size 2880x720 with 1 Axes>"
      ]
     },
     "metadata": {
      "needs_background": "light"
     },
     "output_type": "display_data"
    },
    {
     "data": {
      "image/png": "[encoded data removed]",
      "text/plain": [
       "<Figure size 2880x720 with 1 Axes>"
      ]
     },
     "metadata": {
      "needs_background": "light"
     },
     "output_type": "display_data"
    },
    {
     "data": {
      "image/png": "[encoded data removed]",
      "text/plain": [
       "<Figure size 2880x720 with 1 Axes>"
      ]
     },
     "metadata": {
      "needs_background": "light"
     },
     "output_type": "display_data"
    },
    {
     "data": {
      "image/png": "[encoded data removed]",
      "text/plain": [
       "<Figure size 2880x720 with 1 Axes>"
      ]
     },
     "metadata": {
      "needs_background": "light"
     },
     "output_type": "display_data"
    },
    {
     "data": {
      "image/png": "[encoded data removed]",
      "text/plain": [
       "<Figure size 2880x720 with 1 Axes>"
      ]
     },
     "metadata": {
      "needs_background": "light"
     },
     "output_type": "display_data"
    }
   ],
   "source": [
    "n=1\n",
    "for j in cat_cols.columns:\n",
    "    plt.figure(figsize=(40,10))\n",
    "    plt.subplot(3,2,n)\n",
    "    sns.countplot(data_train[j],hue=data_train['Claim'])\n",
    "    plt.title('Count plot for '+j,fontsize=20)\n",
    "    n+=1\n",
    "    plt.xticks(rotation=90,fontsize=12)\n",
    "#     plt.show()"
   ]
  },
  {
   "cell_type": "code",
   "execution_count": 25,
   "metadata": {},
   "outputs": [
    {
     "data": {
      "image/png": "[encoded data removed]",
      "text/plain": [
       "<Figure size 1440x1152 with 4 Axes>"
      ]
     },
     "metadata": {
      "needs_background": "light"
     },
     "output_type": "display_data"
    }
   ],
   "source": [
    "n = 1\n",
    "plt.figure(figsize = (20,16))\n",
    "for i in num_cols.columns:\n",
    "    plt.subplot(3,2,n)\n",
    "    sns.distplot(data_train[i])\n",
    "    plt.title('Distribution for '+i,fontsize=20)\n",
    "    n+=1"
   ]
  },
  {
   "cell_type": "code",
   "execution_count": 26,
   "metadata": {},
   "outputs": [
    {
     "data": {
      "image/png": "[encoded data removed]",
      "text/plain": [
       "<Figure size 1080x720 with 4 Axes>"
      ]
     },
     "metadata": {
      "needs_background": "light"
     },
     "output_type": "display_data"
    }
   ],
   "source": [
    "n=1\n",
    "plt.figure(figsize=(15,10))\n",
    "for box in num_cols.columns:\n",
    "    plt.subplot(2,2,n)\n",
    "    plt.boxplot(num_cols[box])\n",
    "    plt.title('Boxplot for '+box,fontsize=20)   \n",
    "    n+=1"
   ]
  },
  {
   "cell_type": "code",
   "execution_count": 27,
   "metadata": {},
   "outputs": [],
   "source": [
    "cat_cols1=data_test.select_dtypes(['object'])\n",
    "num_cols1=data_test.select_dtypes(['int64','float64'])"
   ]
  },
  {
   "cell_type": "markdown",
   "metadata": {},
   "source": [
    "LABEL ENCODING"
   ]
  },
  {
   "cell_type": "code",
   "execution_count": 28,
   "metadata": {},
   "outputs": [],
   "source": [
    "label_cols = pd.DataFrame()\n",
    "encoder = LabelEncoder()\n",
    "\n",
    "# Fit-transform on data\n",
    "for column in cat_cols:\n",
    "    label_cols[column] = encoder.fit_transform(cat_cols[column])"
   ]
  },
  {
   "cell_type": "code",
   "execution_count": 29,
   "metadata": {},
   "outputs": [
    {
     "data": {
      "text/html": [
       "<div>\n",
       "<style scoped>\n",
       "    .dataframe tbody tr th:only-of-type {\n",
       "        vertical-align: middle;\n",
       "    }\n",
       "\n",
       "    .dataframe tbody tr th {\n",
       "        vertical-align: top;\n",
       "    }\n",
       "\n",
       "    .dataframe thead th {\n",
       "        text-align: right;\n",
       "    }\n",
       "</style>\n",
       "<table border=\"1\" class=\"dataframe\">\n",
       "  <thead>\n",
       "    <tr style=\"text-align: right;\">\n",
       "      <th></th>\n",
       "      <th>Agency</th>\n",
       "      <th>Agency Type</th>\n",
       "      <th>Distribution Channel</th>\n",
       "      <th>Product Name</th>\n",
       "      <th>Destination</th>\n",
       "    </tr>\n",
       "  </thead>\n",
       "  <tbody>\n",
       "    <tr>\n",
       "      <th>0</th>\n",
       "      <td>6</td>\n",
       "      <td>1</td>\n",
       "      <td>1</td>\n",
       "      <td>16</td>\n",
       "      <td>56</td>\n",
       "    </tr>\n",
       "    <tr>\n",
       "      <th>1</th>\n",
       "      <td>7</td>\n",
       "      <td>1</td>\n",
       "      <td>1</td>\n",
       "      <td>10</td>\n",
       "      <td>79</td>\n",
       "    </tr>\n",
       "    <tr>\n",
       "      <th>2</th>\n",
       "      <td>6</td>\n",
       "      <td>1</td>\n",
       "      <td>1</td>\n",
       "      <td>16</td>\n",
       "      <td>56</td>\n",
       "    </tr>\n",
       "    <tr>\n",
       "      <th>3</th>\n",
       "      <td>7</td>\n",
       "      <td>1</td>\n",
       "      <td>1</td>\n",
       "      <td>1</td>\n",
       "      <td>38</td>\n",
       "    </tr>\n",
       "    <tr>\n",
       "      <th>4</th>\n",
       "      <td>7</td>\n",
       "      <td>1</td>\n",
       "      <td>1</td>\n",
       "      <td>10</td>\n",
       "      <td>47</td>\n",
       "    </tr>\n",
       "  </tbody>\n",
       "</table>\n",
       "</div>"
      ],
      "text/plain": [
       "   Agency  Agency Type  Distribution Channel  Product Name  Destination\n",
       "0       6            1                     1            16           56\n",
       "1       7            1                     1            10           79\n",
       "2       6            1                     1            16           56\n",
       "3       7            1                     1             1           38\n",
       "4       7            1                     1            10           47"
      ]
     },
     "execution_count": 29,
     "metadata": {},
     "output_type": "execute_result"
    }
   ],
   "source": [
    "label_cols.head()"
   ]
  },
  {
   "cell_type": "code",
   "execution_count": 30,
   "metadata": {},
   "outputs": [
    {
     "data": {
      "text/html": [
       "<div>\n",
       "<style scoped>\n",
       "    .dataframe tbody tr th:only-of-type {\n",
       "        vertical-align: middle;\n",
       "    }\n",
       "\n",
       "    .dataframe tbody tr th {\n",
       "        vertical-align: top;\n",
       "    }\n",
       "\n",
       "    .dataframe thead th {\n",
       "        text-align: right;\n",
       "    }\n",
       "</style>\n",
       "<table border=\"1\" class=\"dataframe\">\n",
       "  <thead>\n",
       "    <tr style=\"text-align: right;\">\n",
       "      <th></th>\n",
       "      <th>Duration</th>\n",
       "      <th>Net Sales</th>\n",
       "      <th>Commision (in value)</th>\n",
       "      <th>Age</th>\n",
       "    </tr>\n",
       "  </thead>\n",
       "  <tbody>\n",
       "    <tr>\n",
       "      <th>0</th>\n",
       "      <td>7</td>\n",
       "      <td>0.0</td>\n",
       "      <td>17.82</td>\n",
       "      <td>31</td>\n",
       "    </tr>\n",
       "    <tr>\n",
       "      <th>1</th>\n",
       "      <td>85</td>\n",
       "      <td>69.0</td>\n",
       "      <td>0.00</td>\n",
       "      <td>36</td>\n",
       "    </tr>\n",
       "    <tr>\n",
       "      <th>2</th>\n",
       "      <td>11</td>\n",
       "      <td>19.8</td>\n",
       "      <td>11.88</td>\n",
       "      <td>75</td>\n",
       "    </tr>\n",
       "    <tr>\n",
       "      <th>3</th>\n",
       "      <td>16</td>\n",
       "      <td>20.0</td>\n",
       "      <td>0.00</td>\n",
       "      <td>32</td>\n",
       "    </tr>\n",
       "    <tr>\n",
       "      <th>4</th>\n",
       "      <td>10</td>\n",
       "      <td>15.0</td>\n",
       "      <td>0.00</td>\n",
       "      <td>29</td>\n",
       "    </tr>\n",
       "  </tbody>\n",
       "</table>\n",
       "</div>"
      ],
      "text/plain": [
       "   Duration  Net Sales  Commision (in value)  Age\n",
       "0         7        0.0                 17.82   31\n",
       "1        85       69.0                  0.00   36\n",
       "2        11       19.8                 11.88   75\n",
       "3        16       20.0                  0.00   32\n",
       "4        10       15.0                  0.00   29"
      ]
     },
     "execution_count": 30,
     "metadata": {},
     "output_type": "execute_result"
    }
   ],
   "source": [
    "num_cols.head()"
   ]
  },
  {
   "cell_type": "code",
   "execution_count": 31,
   "metadata": {},
   "outputs": [],
   "source": [
    "df1 = pd.concat([label_cols,num_cols], axis=1)"
   ]
  },
  {
   "cell_type": "code",
   "execution_count": 32,
   "metadata": {},
   "outputs": [
    {
     "data": {
      "text/html": [
       "<div>\n",
       "<style scoped>\n",
       "    .dataframe tbody tr th:only-of-type {\n",
       "        vertical-align: middle;\n",
       "    }\n",
       "\n",
       "    .dataframe tbody tr th {\n",
       "        vertical-align: top;\n",
       "    }\n",
       "\n",
       "    .dataframe thead th {\n",
       "        text-align: right;\n",
       "    }\n",
       "</style>\n",
       "<table border=\"1\" class=\"dataframe\">\n",
       "  <thead>\n",
       "    <tr style=\"text-align: right;\">\n",
       "      <th></th>\n",
       "      <th>Agency</th>\n",
       "      <th>Agency Type</th>\n",
       "      <th>Distribution Channel</th>\n",
       "      <th>Product Name</th>\n",
       "      <th>Destination</th>\n",
       "      <th>Duration</th>\n",
       "      <th>Net Sales</th>\n",
       "      <th>Commision (in value)</th>\n",
       "      <th>Age</th>\n",
       "    </tr>\n",
       "  </thead>\n",
       "  <tbody>\n",
       "    <tr>\n",
       "      <th>0</th>\n",
       "      <td>6.0</td>\n",
       "      <td>1.0</td>\n",
       "      <td>1.0</td>\n",
       "      <td>16.0</td>\n",
       "      <td>56.0</td>\n",
       "      <td>7.0</td>\n",
       "      <td>0.0</td>\n",
       "      <td>17.82</td>\n",
       "      <td>31.0</td>\n",
       "    </tr>\n",
       "    <tr>\n",
       "      <th>1</th>\n",
       "      <td>7.0</td>\n",
       "      <td>1.0</td>\n",
       "      <td>1.0</td>\n",
       "      <td>10.0</td>\n",
       "      <td>79.0</td>\n",
       "      <td>85.0</td>\n",
       "      <td>69.0</td>\n",
       "      <td>0.00</td>\n",
       "      <td>36.0</td>\n",
       "    </tr>\n",
       "    <tr>\n",
       "      <th>2</th>\n",
       "      <td>6.0</td>\n",
       "      <td>1.0</td>\n",
       "      <td>1.0</td>\n",
       "      <td>16.0</td>\n",
       "      <td>56.0</td>\n",
       "      <td>11.0</td>\n",
       "      <td>19.8</td>\n",
       "      <td>11.88</td>\n",
       "      <td>75.0</td>\n",
       "    </tr>\n",
       "    <tr>\n",
       "      <th>3</th>\n",
       "      <td>7.0</td>\n",
       "      <td>1.0</td>\n",
       "      <td>1.0</td>\n",
       "      <td>1.0</td>\n",
       "      <td>38.0</td>\n",
       "      <td>16.0</td>\n",
       "      <td>20.0</td>\n",
       "      <td>0.00</td>\n",
       "      <td>32.0</td>\n",
       "    </tr>\n",
       "    <tr>\n",
       "      <th>4</th>\n",
       "      <td>7.0</td>\n",
       "      <td>1.0</td>\n",
       "      <td>1.0</td>\n",
       "      <td>10.0</td>\n",
       "      <td>47.0</td>\n",
       "      <td>10.0</td>\n",
       "      <td>15.0</td>\n",
       "      <td>0.00</td>\n",
       "      <td>29.0</td>\n",
       "    </tr>\n",
       "  </tbody>\n",
       "</table>\n",
       "</div>"
      ],
      "text/plain": [
       "   Agency  Agency Type  Distribution Channel  Product Name  Destination  \\\n",
       "0     6.0          1.0                   1.0          16.0         56.0   \n",
       "1     7.0          1.0                   1.0          10.0         79.0   \n",
       "2     6.0          1.0                   1.0          16.0         56.0   \n",
       "3     7.0          1.0                   1.0           1.0         38.0   \n",
       "4     7.0          1.0                   1.0          10.0         47.0   \n",
       "\n",
       "   Duration  Net Sales  Commision (in value)   Age  \n",
       "0       7.0        0.0                 17.82  31.0  \n",
       "1      85.0       69.0                  0.00  36.0  \n",
       "2      11.0       19.8                 11.88  75.0  \n",
       "3      16.0       20.0                  0.00  32.0  \n",
       "4      10.0       15.0                  0.00  29.0  "
      ]
     },
     "execution_count": 32,
     "metadata": {},
     "output_type": "execute_result"
    }
   ],
   "source": [
    "df1.head()"
   ]
  },
  {
   "cell_type": "code",
   "execution_count": 33,
   "metadata": {
    "scrolled": true
   },
   "outputs": [
    {
     "data": {
      "text/plain": [
       "<matplotlib.axes._subplots.AxesSubplot at 0x1b06ec709e8>"
      ]
     },
     "execution_count": 33,
     "metadata": {},
     "output_type": "execute_result"
    },
    {
     "data": {
      "image/png": "[encoded data removed]",
      "text/plain": [
       "<Figure size 1080x576 with 2 Axes>"
      ]
     },
     "metadata": {
      "needs_background": "light"
     },
     "output_type": "display_data"
    }
   ],
   "source": [
    "plt.figure(figsize=(15,8))\n",
    "sns.heatmap(df1.corr(),annot=True)"
   ]
  },
  {
   "cell_type": "code",
   "execution_count": 34,
   "metadata": {},
   "outputs": [
    {
     "data": {
      "text/plain": [
       "Series([], dtype: float64)"
      ]
     },
     "execution_count": 34,
     "metadata": {},
     "output_type": "execute_result"
    }
   ],
   "source": [
    "correlation = df1.corr().unstack()\n",
    "correlation[(abs(correlation)>0.75) & (abs(correlation) != 1)]"
   ]
  },
  {
   "cell_type": "code",
   "execution_count": 35,
   "metadata": {},
   "outputs": [],
   "source": [
    "cat_cols = pd.get_dummies(cat_cols) \n",
    "cat_cols1 = pd.get_dummies(cat_cols1)"
   ]
  },
  {
   "cell_type": "code",
   "execution_count": 36,
   "metadata": {},
   "outputs": [
    {
     "data": {
      "text/html": [
       "<div>\n",
       "<style scoped>\n",
       "    .dataframe tbody tr th:only-of-type {\n",
       "        vertical-align: middle;\n",
       "    }\n",
       "\n",
       "    .dataframe tbody tr th {\n",
       "        vertical-align: top;\n",
       "    }\n",
       "\n",
       "    .dataframe thead th {\n",
       "        text-align: right;\n",
       "    }\n",
       "</style>\n",
       "<table border=\"1\" class=\"dataframe\">\n",
       "  <thead>\n",
       "    <tr style=\"text-align: right;\">\n",
       "      <th></th>\n",
       "      <th>Agency_ADM</th>\n",
       "      <th>Agency_ART</th>\n",
       "      <th>Agency_C2B</th>\n",
       "      <th>Agency_CBH</th>\n",
       "      <th>Agency_CCR</th>\n",
       "      <th>Agency_CSR</th>\n",
       "      <th>Agency_CWT</th>\n",
       "      <th>Agency_EPX</th>\n",
       "      <th>Agency_JWT</th>\n",
       "      <th>Agency_JZI</th>\n",
       "      <th>...</th>\n",
       "      <th>Destination_UGANDA</th>\n",
       "      <th>Destination_UKRAINE</th>\n",
       "      <th>Destination_UNITED ARAB EMIRATES</th>\n",
       "      <th>Destination_UNITED KINGDOM</th>\n",
       "      <th>Destination_UNITED STATES</th>\n",
       "      <th>Destination_UZBEKISTAN</th>\n",
       "      <th>Destination_VANUATU</th>\n",
       "      <th>Destination_VENEZUELA</th>\n",
       "      <th>Destination_VIET NAM</th>\n",
       "      <th>Destination_ZAMBIA</th>\n",
       "    </tr>\n",
       "  </thead>\n",
       "  <tbody>\n",
       "    <tr>\n",
       "      <th>0</th>\n",
       "      <td>0</td>\n",
       "      <td>0</td>\n",
       "      <td>0</td>\n",
       "      <td>0</td>\n",
       "      <td>0</td>\n",
       "      <td>0</td>\n",
       "      <td>1</td>\n",
       "      <td>0</td>\n",
       "      <td>0</td>\n",
       "      <td>0</td>\n",
       "      <td>...</td>\n",
       "      <td>0</td>\n",
       "      <td>0</td>\n",
       "      <td>0</td>\n",
       "      <td>0</td>\n",
       "      <td>0</td>\n",
       "      <td>0</td>\n",
       "      <td>0</td>\n",
       "      <td>0</td>\n",
       "      <td>0</td>\n",
       "      <td>0</td>\n",
       "    </tr>\n",
       "    <tr>\n",
       "      <th>1</th>\n",
       "      <td>0</td>\n",
       "      <td>0</td>\n",
       "      <td>0</td>\n",
       "      <td>0</td>\n",
       "      <td>0</td>\n",
       "      <td>0</td>\n",
       "      <td>0</td>\n",
       "      <td>1</td>\n",
       "      <td>0</td>\n",
       "      <td>0</td>\n",
       "      <td>...</td>\n",
       "      <td>0</td>\n",
       "      <td>0</td>\n",
       "      <td>0</td>\n",
       "      <td>0</td>\n",
       "      <td>0</td>\n",
       "      <td>0</td>\n",
       "      <td>0</td>\n",
       "      <td>0</td>\n",
       "      <td>0</td>\n",
       "      <td>0</td>\n",
       "    </tr>\n",
       "    <tr>\n",
       "      <th>2</th>\n",
       "      <td>0</td>\n",
       "      <td>0</td>\n",
       "      <td>0</td>\n",
       "      <td>0</td>\n",
       "      <td>0</td>\n",
       "      <td>0</td>\n",
       "      <td>1</td>\n",
       "      <td>0</td>\n",
       "      <td>0</td>\n",
       "      <td>0</td>\n",
       "      <td>...</td>\n",
       "      <td>0</td>\n",
       "      <td>0</td>\n",
       "      <td>0</td>\n",
       "      <td>0</td>\n",
       "      <td>0</td>\n",
       "      <td>0</td>\n",
       "      <td>0</td>\n",
       "      <td>0</td>\n",
       "      <td>0</td>\n",
       "      <td>0</td>\n",
       "    </tr>\n",
       "    <tr>\n",
       "      <th>3</th>\n",
       "      <td>0</td>\n",
       "      <td>0</td>\n",
       "      <td>0</td>\n",
       "      <td>0</td>\n",
       "      <td>0</td>\n",
       "      <td>0</td>\n",
       "      <td>0</td>\n",
       "      <td>1</td>\n",
       "      <td>0</td>\n",
       "      <td>0</td>\n",
       "      <td>...</td>\n",
       "      <td>0</td>\n",
       "      <td>0</td>\n",
       "      <td>0</td>\n",
       "      <td>0</td>\n",
       "      <td>0</td>\n",
       "      <td>0</td>\n",
       "      <td>0</td>\n",
       "      <td>0</td>\n",
       "      <td>0</td>\n",
       "      <td>0</td>\n",
       "    </tr>\n",
       "    <tr>\n",
       "      <th>4</th>\n",
       "      <td>0</td>\n",
       "      <td>0</td>\n",
       "      <td>0</td>\n",
       "      <td>0</td>\n",
       "      <td>0</td>\n",
       "      <td>0</td>\n",
       "      <td>0</td>\n",
       "      <td>1</td>\n",
       "      <td>0</td>\n",
       "      <td>0</td>\n",
       "      <td>...</td>\n",
       "      <td>0</td>\n",
       "      <td>0</td>\n",
       "      <td>0</td>\n",
       "      <td>0</td>\n",
       "      <td>0</td>\n",
       "      <td>0</td>\n",
       "      <td>0</td>\n",
       "      <td>0</td>\n",
       "      <td>0</td>\n",
       "      <td>0</td>\n",
       "    </tr>\n",
       "  </tbody>\n",
       "</table>\n",
       "<p>5 rows × 147 columns</p>\n",
       "</div>"
      ],
      "text/plain": [
       "   Agency_ADM  Agency_ART  Agency_C2B  Agency_CBH  Agency_CCR  Agency_CSR  \\\n",
       "0           0           0           0           0           0           0   \n",
       "1           0           0           0           0           0           0   \n",
       "2           0           0           0           0           0           0   \n",
       "3           0           0           0           0           0           0   \n",
       "4           0           0           0           0           0           0   \n",
       "\n",
       "   Agency_CWT  Agency_EPX  Agency_JWT  Agency_JZI  ...  Destination_UGANDA  \\\n",
       "0           1           0           0           0  ...                   0   \n",
       "1           0           1           0           0  ...                   0   \n",
       "2           1           0           0           0  ...                   0   \n",
       "3           0           1           0           0  ...                   0   \n",
       "4           0           1           0           0  ...                   0   \n",
       "\n",
       "   Destination_UKRAINE  Destination_UNITED ARAB EMIRATES  \\\n",
       "0                    0                                 0   \n",
       "1                    0                                 0   \n",
       "2                    0                                 0   \n",
       "3                    0                                 0   \n",
       "4                    0                                 0   \n",
       "\n",
       "   Destination_UNITED KINGDOM  Destination_UNITED STATES  \\\n",
       "0                           0                          0   \n",
       "1                           0                          0   \n",
       "2                           0                          0   \n",
       "3                           0                          0   \n",
       "4                           0                          0   \n",
       "\n",
       "   Destination_UZBEKISTAN  Destination_VANUATU  Destination_VENEZUELA  \\\n",
       "0                       0                    0                      0   \n",
       "1                       0                    0                      0   \n",
       "2                       0                    0                      0   \n",
       "3                       0                    0                      0   \n",
       "4                       0                    0                      0   \n",
       "\n",
       "   Destination_VIET NAM  Destination_ZAMBIA  \n",
       "0                     0                   0  \n",
       "1                     0                   0  \n",
       "2                     0                   0  \n",
       "3                     0                   0  \n",
       "4                     0                   0  \n",
       "\n",
       "[5 rows x 147 columns]"
      ]
     },
     "execution_count": 36,
     "metadata": {},
     "output_type": "execute_result"
    }
   ],
   "source": [
    "cat_cols.head()"
   ]
  },
  {
   "cell_type": "code",
   "execution_count": 37,
   "metadata": {},
   "outputs": [],
   "source": [
    "df1 = pd.concat([num_cols,cat_cols], axis=1)"
   ]
  },
  {
   "cell_type": "code",
   "execution_count": 38,
   "metadata": {
    "scrolled": true
   },
   "outputs": [
    {
     "data": {
      "text/html": [
       "<div>\n",
       "<style scoped>\n",
       "    .dataframe tbody tr th:only-of-type {\n",
       "        vertical-align: middle;\n",
       "    }\n",
       "\n",
       "    .dataframe tbody tr th {\n",
       "        vertical-align: top;\n",
       "    }\n",
       "\n",
       "    .dataframe thead th {\n",
       "        text-align: right;\n",
       "    }\n",
       "</style>\n",
       "<table border=\"1\" class=\"dataframe\">\n",
       "  <thead>\n",
       "    <tr style=\"text-align: right;\">\n",
       "      <th></th>\n",
       "      <th>Duration</th>\n",
       "      <th>Net Sales</th>\n",
       "      <th>Commision (in value)</th>\n",
       "      <th>Age</th>\n",
       "      <th>Agency_ADM</th>\n",
       "      <th>Agency_ART</th>\n",
       "      <th>Agency_C2B</th>\n",
       "      <th>Agency_CBH</th>\n",
       "      <th>Agency_CCR</th>\n",
       "      <th>Agency_CSR</th>\n",
       "      <th>...</th>\n",
       "      <th>Destination_UGANDA</th>\n",
       "      <th>Destination_UKRAINE</th>\n",
       "      <th>Destination_UNITED ARAB EMIRATES</th>\n",
       "      <th>Destination_UNITED KINGDOM</th>\n",
       "      <th>Destination_UNITED STATES</th>\n",
       "      <th>Destination_UZBEKISTAN</th>\n",
       "      <th>Destination_VANUATU</th>\n",
       "      <th>Destination_VENEZUELA</th>\n",
       "      <th>Destination_VIET NAM</th>\n",
       "      <th>Destination_ZAMBIA</th>\n",
       "    </tr>\n",
       "  </thead>\n",
       "  <tbody>\n",
       "    <tr>\n",
       "      <th>0</th>\n",
       "      <td>7</td>\n",
       "      <td>0.0</td>\n",
       "      <td>17.82</td>\n",
       "      <td>31</td>\n",
       "      <td>0</td>\n",
       "      <td>0</td>\n",
       "      <td>0</td>\n",
       "      <td>0</td>\n",
       "      <td>0</td>\n",
       "      <td>0</td>\n",
       "      <td>...</td>\n",
       "      <td>0</td>\n",
       "      <td>0</td>\n",
       "      <td>0</td>\n",
       "      <td>0</td>\n",
       "      <td>0</td>\n",
       "      <td>0</td>\n",
       "      <td>0</td>\n",
       "      <td>0</td>\n",
       "      <td>0</td>\n",
       "      <td>0</td>\n",
       "    </tr>\n",
       "    <tr>\n",
       "      <th>1</th>\n",
       "      <td>85</td>\n",
       "      <td>69.0</td>\n",
       "      <td>0.00</td>\n",
       "      <td>36</td>\n",
       "      <td>0</td>\n",
       "      <td>0</td>\n",
       "      <td>0</td>\n",
       "      <td>0</td>\n",
       "      <td>0</td>\n",
       "      <td>0</td>\n",
       "      <td>...</td>\n",
       "      <td>0</td>\n",
       "      <td>0</td>\n",
       "      <td>0</td>\n",
       "      <td>0</td>\n",
       "      <td>0</td>\n",
       "      <td>0</td>\n",
       "      <td>0</td>\n",
       "      <td>0</td>\n",
       "      <td>0</td>\n",
       "      <td>0</td>\n",
       "    </tr>\n",
       "    <tr>\n",
       "      <th>2</th>\n",
       "      <td>11</td>\n",
       "      <td>19.8</td>\n",
       "      <td>11.88</td>\n",
       "      <td>75</td>\n",
       "      <td>0</td>\n",
       "      <td>0</td>\n",
       "      <td>0</td>\n",
       "      <td>0</td>\n",
       "      <td>0</td>\n",
       "      <td>0</td>\n",
       "      <td>...</td>\n",
       "      <td>0</td>\n",
       "      <td>0</td>\n",
       "      <td>0</td>\n",
       "      <td>0</td>\n",
       "      <td>0</td>\n",
       "      <td>0</td>\n",
       "      <td>0</td>\n",
       "      <td>0</td>\n",
       "      <td>0</td>\n",
       "      <td>0</td>\n",
       "    </tr>\n",
       "    <tr>\n",
       "      <th>3</th>\n",
       "      <td>16</td>\n",
       "      <td>20.0</td>\n",
       "      <td>0.00</td>\n",
       "      <td>32</td>\n",
       "      <td>0</td>\n",
       "      <td>0</td>\n",
       "      <td>0</td>\n",
       "      <td>0</td>\n",
       "      <td>0</td>\n",
       "      <td>0</td>\n",
       "      <td>...</td>\n",
       "      <td>0</td>\n",
       "      <td>0</td>\n",
       "      <td>0</td>\n",
       "      <td>0</td>\n",
       "      <td>0</td>\n",
       "      <td>0</td>\n",
       "      <td>0</td>\n",
       "      <td>0</td>\n",
       "      <td>0</td>\n",
       "      <td>0</td>\n",
       "    </tr>\n",
       "    <tr>\n",
       "      <th>4</th>\n",
       "      <td>10</td>\n",
       "      <td>15.0</td>\n",
       "      <td>0.00</td>\n",
       "      <td>29</td>\n",
       "      <td>0</td>\n",
       "      <td>0</td>\n",
       "      <td>0</td>\n",
       "      <td>0</td>\n",
       "      <td>0</td>\n",
       "      <td>0</td>\n",
       "      <td>...</td>\n",
       "      <td>0</td>\n",
       "      <td>0</td>\n",
       "      <td>0</td>\n",
       "      <td>0</td>\n",
       "      <td>0</td>\n",
       "      <td>0</td>\n",
       "      <td>0</td>\n",
       "      <td>0</td>\n",
       "      <td>0</td>\n",
       "      <td>0</td>\n",
       "    </tr>\n",
       "  </tbody>\n",
       "</table>\n",
       "<p>5 rows × 151 columns</p>\n",
       "</div>"
      ],
      "text/plain": [
       "   Duration  Net Sales  Commision (in value)  Age  Agency_ADM  Agency_ART  \\\n",
       "0         7        0.0                 17.82   31           0           0   \n",
       "1        85       69.0                  0.00   36           0           0   \n",
       "2        11       19.8                 11.88   75           0           0   \n",
       "3        16       20.0                  0.00   32           0           0   \n",
       "4        10       15.0                  0.00   29           0           0   \n",
       "\n",
       "   Agency_C2B  Agency_CBH  Agency_CCR  Agency_CSR  ...  Destination_UGANDA  \\\n",
       "0           0           0           0           0  ...                   0   \n",
       "1           0           0           0           0  ...                   0   \n",
       "2           0           0           0           0  ...                   0   \n",
       "3           0           0           0           0  ...                   0   \n",
       "4           0           0           0           0  ...                   0   \n",
       "\n",
       "   Destination_UKRAINE  Destination_UNITED ARAB EMIRATES  \\\n",
       "0                    0                                 0   \n",
       "1                    0                                 0   \n",
       "2                    0                                 0   \n",
       "3                    0                                 0   \n",
       "4                    0                                 0   \n",
       "\n",
       "   Destination_UNITED KINGDOM  Destination_UNITED STATES  \\\n",
       "0                           0                          0   \n",
       "1                           0                          0   \n",
       "2                           0                          0   \n",
       "3                           0                          0   \n",
       "4                           0                          0   \n",
       "\n",
       "   Destination_UZBEKISTAN  Destination_VANUATU  Destination_VENEZUELA  \\\n",
       "0                       0                    0                      0   \n",
       "1                       0                    0                      0   \n",
       "2                       0                    0                      0   \n",
       "3                       0                    0                      0   \n",
       "4                       0                    0                      0   \n",
       "\n",
       "   Destination_VIET NAM  Destination_ZAMBIA  \n",
       "0                     0                   0  \n",
       "1                     0                   0  \n",
       "2                     0                   0  \n",
       "3                     0                   0  \n",
       "4                     0                   0  \n",
       "\n",
       "[5 rows x 151 columns]"
      ]
     },
     "execution_count": 38,
     "metadata": {},
     "output_type": "execute_result"
    }
   ],
   "source": [
    "df1.head()"
   ]
  },
  {
   "cell_type": "code",
   "execution_count": 39,
   "metadata": {},
   "outputs": [],
   "source": [
    "df2 = pd.concat([num_cols1,cat_cols1], axis=1)"
   ]
  },
  {
   "cell_type": "code",
   "execution_count": 40,
   "metadata": {},
   "outputs": [],
   "source": [
    "#Separating featrue and target\n",
    "X = df1\n",
    "y = data_train['Claim']"
   ]
  },
  {
   "cell_type": "code",
   "execution_count": 41,
   "metadata": {},
   "outputs": [],
   "source": [
    "from sklearn.preprocessing import MinMaxScaler\n",
    "scaler = MinMaxScaler()\n",
    "X[num_cols.columns] = scaler.fit_transform(X[num_cols.columns])   \n",
    "df2[num_cols1.columns] = scaler.transform(df2[num_cols1.columns])"
   ]
  },
  {
   "cell_type": "code",
   "execution_count": 42,
   "metadata": {
    "scrolled": true
   },
   "outputs": [
    {
     "data": {
      "text/html": [
       "<div>\n",
       "<style scoped>\n",
       "    .dataframe tbody tr th:only-of-type {\n",
       "        vertical-align: middle;\n",
       "    }\n",
       "\n",
       "    .dataframe tbody tr th {\n",
       "        vertical-align: top;\n",
       "    }\n",
       "\n",
       "    .dataframe thead th {\n",
       "        text-align: right;\n",
       "    }\n",
       "</style>\n",
       "<table border=\"1\" class=\"dataframe\">\n",
       "  <thead>\n",
       "    <tr style=\"text-align: right;\">\n",
       "      <th></th>\n",
       "      <th>Duration</th>\n",
       "      <th>Net Sales</th>\n",
       "      <th>Commision (in value)</th>\n",
       "      <th>Age</th>\n",
       "      <th>Agency_ADM</th>\n",
       "      <th>Agency_ART</th>\n",
       "      <th>Agency_C2B</th>\n",
       "      <th>Agency_CBH</th>\n",
       "      <th>Agency_CCR</th>\n",
       "      <th>Agency_CSR</th>\n",
       "      <th>...</th>\n",
       "      <th>Destination_UGANDA</th>\n",
       "      <th>Destination_UKRAINE</th>\n",
       "      <th>Destination_UNITED ARAB EMIRATES</th>\n",
       "      <th>Destination_UNITED KINGDOM</th>\n",
       "      <th>Destination_UNITED STATES</th>\n",
       "      <th>Destination_UZBEKISTAN</th>\n",
       "      <th>Destination_VANUATU</th>\n",
       "      <th>Destination_VENEZUELA</th>\n",
       "      <th>Destination_VIET NAM</th>\n",
       "      <th>Destination_ZAMBIA</th>\n",
       "    </tr>\n",
       "  </thead>\n",
       "  <tbody>\n",
       "    <tr>\n",
       "      <th>0</th>\n",
       "      <td>0.006393</td>\n",
       "      <td>0.324437</td>\n",
       "      <td>0.062857</td>\n",
       "      <td>0.313131</td>\n",
       "      <td>0</td>\n",
       "      <td>0</td>\n",
       "      <td>0</td>\n",
       "      <td>0</td>\n",
       "      <td>0</td>\n",
       "      <td>0</td>\n",
       "      <td>...</td>\n",
       "      <td>0</td>\n",
       "      <td>0</td>\n",
       "      <td>0</td>\n",
       "      <td>0</td>\n",
       "      <td>0</td>\n",
       "      <td>0</td>\n",
       "      <td>0</td>\n",
       "      <td>0</td>\n",
       "      <td>0</td>\n",
       "      <td>0</td>\n",
       "    </tr>\n",
       "    <tr>\n",
       "      <th>1</th>\n",
       "      <td>0.077626</td>\n",
       "      <td>0.381985</td>\n",
       "      <td>0.000000</td>\n",
       "      <td>0.363636</td>\n",
       "      <td>0</td>\n",
       "      <td>0</td>\n",
       "      <td>0</td>\n",
       "      <td>0</td>\n",
       "      <td>0</td>\n",
       "      <td>0</td>\n",
       "      <td>...</td>\n",
       "      <td>0</td>\n",
       "      <td>0</td>\n",
       "      <td>0</td>\n",
       "      <td>0</td>\n",
       "      <td>0</td>\n",
       "      <td>0</td>\n",
       "      <td>0</td>\n",
       "      <td>0</td>\n",
       "      <td>0</td>\n",
       "      <td>0</td>\n",
       "    </tr>\n",
       "    <tr>\n",
       "      <th>2</th>\n",
       "      <td>0.010046</td>\n",
       "      <td>0.340951</td>\n",
       "      <td>0.041905</td>\n",
       "      <td>0.757576</td>\n",
       "      <td>0</td>\n",
       "      <td>0</td>\n",
       "      <td>0</td>\n",
       "      <td>0</td>\n",
       "      <td>0</td>\n",
       "      <td>0</td>\n",
       "      <td>...</td>\n",
       "      <td>0</td>\n",
       "      <td>0</td>\n",
       "      <td>0</td>\n",
       "      <td>0</td>\n",
       "      <td>0</td>\n",
       "      <td>0</td>\n",
       "      <td>0</td>\n",
       "      <td>0</td>\n",
       "      <td>0</td>\n",
       "      <td>0</td>\n",
       "    </tr>\n",
       "    <tr>\n",
       "      <th>3</th>\n",
       "      <td>0.014612</td>\n",
       "      <td>0.341118</td>\n",
       "      <td>0.000000</td>\n",
       "      <td>0.323232</td>\n",
       "      <td>0</td>\n",
       "      <td>0</td>\n",
       "      <td>0</td>\n",
       "      <td>0</td>\n",
       "      <td>0</td>\n",
       "      <td>0</td>\n",
       "      <td>...</td>\n",
       "      <td>0</td>\n",
       "      <td>0</td>\n",
       "      <td>0</td>\n",
       "      <td>0</td>\n",
       "      <td>0</td>\n",
       "      <td>0</td>\n",
       "      <td>0</td>\n",
       "      <td>0</td>\n",
       "      <td>0</td>\n",
       "      <td>0</td>\n",
       "    </tr>\n",
       "    <tr>\n",
       "      <th>4</th>\n",
       "      <td>0.009132</td>\n",
       "      <td>0.336947</td>\n",
       "      <td>0.000000</td>\n",
       "      <td>0.292929</td>\n",
       "      <td>0</td>\n",
       "      <td>0</td>\n",
       "      <td>0</td>\n",
       "      <td>0</td>\n",
       "      <td>0</td>\n",
       "      <td>0</td>\n",
       "      <td>...</td>\n",
       "      <td>0</td>\n",
       "      <td>0</td>\n",
       "      <td>0</td>\n",
       "      <td>0</td>\n",
       "      <td>0</td>\n",
       "      <td>0</td>\n",
       "      <td>0</td>\n",
       "      <td>0</td>\n",
       "      <td>0</td>\n",
       "      <td>0</td>\n",
       "    </tr>\n",
       "  </tbody>\n",
       "</table>\n",
       "<p>5 rows × 151 columns</p>\n",
       "</div>"
      ],
      "text/plain": [
       "   Duration  Net Sales  Commision (in value)       Age  Agency_ADM  \\\n",
       "0  0.006393   0.324437              0.062857  0.313131           0   \n",
       "1  0.077626   0.381985              0.000000  0.363636           0   \n",
       "2  0.010046   0.340951              0.041905  0.757576           0   \n",
       "3  0.014612   0.341118              0.000000  0.323232           0   \n",
       "4  0.009132   0.336947              0.000000  0.292929           0   \n",
       "\n",
       "   Agency_ART  Agency_C2B  Agency_CBH  Agency_CCR  Agency_CSR  ...  \\\n",
       "0           0           0           0           0           0  ...   \n",
       "1           0           0           0           0           0  ...   \n",
       "2           0           0           0           0           0  ...   \n",
       "3           0           0           0           0           0  ...   \n",
       "4           0           0           0           0           0  ...   \n",
       "\n",
       "   Destination_UGANDA  Destination_UKRAINE  Destination_UNITED ARAB EMIRATES  \\\n",
       "0                   0                    0                                 0   \n",
       "1                   0                    0                                 0   \n",
       "2                   0                    0                                 0   \n",
       "3                   0                    0                                 0   \n",
       "4                   0                    0                                 0   \n",
       "\n",
       "   Destination_UNITED KINGDOM  Destination_UNITED STATES  \\\n",
       "0                           0                          0   \n",
       "1                           0                          0   \n",
       "2                           0                          0   \n",
       "3                           0                          0   \n",
       "4                           0                          0   \n",
       "\n",
       "   Destination_UZBEKISTAN  Destination_VANUATU  Destination_VENEZUELA  \\\n",
       "0                       0                    0                      0   \n",
       "1                       0                    0                      0   \n",
       "2                       0                    0                      0   \n",
       "3                       0                    0                      0   \n",
       "4                       0                    0                      0   \n",
       "\n",
       "   Destination_VIET NAM  Destination_ZAMBIA  \n",
       "0                     0                   0  \n",
       "1                     0                   0  \n",
       "2                     0                   0  \n",
       "3                     0                   0  \n",
       "4                     0                   0  \n",
       "\n",
       "[5 rows x 151 columns]"
      ]
     },
     "execution_count": 42,
     "metadata": {},
     "output_type": "execute_result"
    }
   ],
   "source": [
    "X.head()"
   ]
  },
  {
   "cell_type": "code",
   "execution_count": 43,
   "metadata": {},
   "outputs": [],
   "source": [
    "from sklearn.model_selection import train_test_split\n",
    "X_train,X_test,y_train,y_test = train_test_split(X, y, test_size = 0.3, random_state = 42)#, stratify=y)"
   ]
  },
  {
   "cell_type": "code",
   "execution_count": 44,
   "metadata": {},
   "outputs": [
    {
     "data": {
      "text/plain": [
       "0    30515\n",
       "1      524\n",
       "Name: Claim, dtype: int64"
      ]
     },
     "execution_count": 44,
     "metadata": {},
     "output_type": "execute_result"
    }
   ],
   "source": [
    "y_train.value_counts()"
   ]
  },
  {
   "cell_type": "code",
   "execution_count": 45,
   "metadata": {},
   "outputs": [
    {
     "data": {
      "text/plain": [
       "0.7850860708110953"
      ]
     },
     "execution_count": 45,
     "metadata": {},
     "output_type": "execute_result"
    }
   ],
   "source": [
    "# Logistic Regression\n",
    "\n",
    "from sklearn.model_selection import cross_val_score\n",
    "from sklearn.metrics import precision_score, roc_auc_score, confusion_matrix, f1_score,recall_score\n",
    "\n",
    "logreg = LogisticRegression(random_state=42, class_weight='balanced')\n",
    "logreg.fit(X_train, y_train)\n",
    "y_pred_lr = logreg.predict(X_test)\n",
    "y_pred_lr_proba = np.array(pd.DataFrame(logreg.predict_proba(X_test)).iloc[:,1])\n",
    "logreg.score(X_test,y_test)"
   ]
  },
  {
   "cell_type": "code",
   "execution_count": 46,
   "metadata": {},
   "outputs": [
    {
     "name": "stdout",
     "output_type": "stream",
     "text": [
      "Report for logistic model\n",
      "               precision    recall  f1-score   support\n",
      "\n",
      "           0       0.99      0.79      0.88     13091\n",
      "           1       0.05      0.72      0.10       212\n",
      "\n",
      "    accuracy                           0.79     13303\n",
      "   macro avg       0.52      0.75      0.49     13303\n",
      "weighted avg       0.98      0.79      0.87     13303\n",
      "\n",
      "ROC AUC score for logistic model is  0.8001026558646802\n",
      "precision Score for logistic model is 0.9791809738436362\n",
      "recall Score for logistic model is 0.7850860708110953\n",
      "f1 Score for logistic model is 0.8655835299048502\n"
     ]
    }
   ],
   "source": [
    "precision_lr=precision_score(y_test,y_pred_lr,average='weighted')\n",
    "recall_lr=recall_score(y_test,y_pred_lr,average='weighted')\n",
    "f1_lr=f1_score(y_test,y_pred_lr,average='weighted')\n",
    "roc_lr=roc_auc_score(y_test,y_pred_lr_proba)\n",
    "print('Report for logistic model\\n',classification_report(y_test,y_pred_lr))\n",
    "print('ROC AUC score for logistic model is ',roc_lr)\n",
    "print('precision Score for logistic model is',precision_lr)\n",
    "print('recall Score for logistic model is',recall_lr)\n",
    "print('f1 Score for logistic model is',f1_lr)"
   ]
  },
  {
   "cell_type": "code",
   "execution_count": 47,
   "metadata": {},
   "outputs": [
    {
     "name": "stdout",
     "output_type": "stream",
     "text": [
      "Confusion Matrix for logistic model\n",
      "tp fp\n",
      "152 2799 \n",
      "\n",
      "fn tn\n",
      "60 10292\n"
     ]
    }
   ],
   "source": [
    "tn,fp,fn,tp = confusion_matrix(y_test,y_pred_lr).ravel()\n",
    "print('Confusion Matrix for logistic model')\n",
    "print('tp','fp')\n",
    "print(tp,fp,'\\n')\n",
    "print('fn','tn')\n",
    "print(fn,tn)"
   ]
  },
  {
   "cell_type": "code",
   "execution_count": 48,
   "metadata": {},
   "outputs": [
    {
     "data": {
      "text/plain": [
       "0.9666240697587011"
      ]
     },
     "execution_count": 48,
     "metadata": {},
     "output_type": "execute_result"
    }
   ],
   "source": [
    "# Decision Tree\n",
    "\n",
    "dt = DecisionTreeClassifier(random_state=42,class_weight='balanced')\n",
    "dt.fit(X_train, y_train)\n",
    "y_pred_dt = dt.predict(X_test)\n",
    "dt_pred_proba = np.array(pd.DataFrame(dt.predict_proba(X_test)).iloc[:,1])\n",
    "dt.score(X_test,y_test)"
   ]
  },
  {
   "cell_type": "code",
   "execution_count": 49,
   "metadata": {},
   "outputs": [
    {
     "name": "stdout",
     "output_type": "stream",
     "text": [
      "Report for decision tree model\n",
      "               precision    recall  f1-score   support\n",
      "\n",
      "           0       0.98      0.98      0.98     13091\n",
      "           1       0.05      0.06      0.06       212\n",
      "\n",
      "    accuracy                           0.97     13303\n",
      "   macro avg       0.52      0.52      0.52     13303\n",
      "weighted avg       0.97      0.97      0.97     13303\n",
      "\n",
      "ROC AUC score for decision tree model is  0.5212590242756439\n",
      "precision Score for decision tree model is 0.9698549534498881\n",
      "recall Score for decision tree model is 0.9666240697587011\n",
      "f1 Score for decision tree model is 0.9682279887347431\n"
     ]
    }
   ],
   "source": [
    "precision_dt=precision_score(y_test,y_pred_dt,average='weighted')\n",
    "recall_dt=recall_score(y_test,y_pred_dt,average='weighted')\n",
    "f1_dt=f1_score(y_test,y_pred_dt,average='weighted')\n",
    "roc_dt=roc_auc_score(y_test,dt_pred_proba)\n",
    "print('Report for decision tree model\\n',classification_report(y_test,y_pred_dt))\n",
    "print('ROC AUC score for decision tree model is ',roc_dt)\n",
    "print('precision Score for decision tree model is',precision_dt)\n",
    "print('recall Score for decision tree model is',recall_dt)\n",
    "print('f1 Score for decision tree model is',f1_dt)"
   ]
  },
  {
   "cell_type": "code",
   "execution_count": 50,
   "metadata": {},
   "outputs": [
    {
     "name": "stdout",
     "output_type": "stream",
     "text": [
      "Confusion Matrix for decision tree model\n",
      "tp fp\n",
      "13 245 \n",
      "\n",
      "fn tn\n",
      "199 12846\n"
     ]
    }
   ],
   "source": [
    "tn,fp,fn,tp = confusion_matrix(y_test,y_pred_dt).ravel()\n",
    "print('Confusion Matrix for decision tree model')\n",
    "print('tp','fp')\n",
    "print(tp,fp,'\\n')\n",
    "print('fn','tn')\n",
    "print(fn,tn)"
   ]
  },
  {
   "cell_type": "code",
   "execution_count": 51,
   "metadata": {},
   "outputs": [
    {
     "data": {
      "text/plain": [
       "{'criterion': 'gini', 'max_depth': 3, 'n_estimators': 10}"
      ]
     },
     "execution_count": 51,
     "metadata": {},
     "output_type": "execute_result"
    }
   ],
   "source": [
    "# Random Forest\n",
    "\n",
    "rfc = RandomForestClassifier(random_state=42)\n",
    "param_grid = { \n",
    "'n_estimators': [10,11,12,13,14],\n",
    "'max_depth' : [3,4,5,6],\n",
    "'criterion' :['gini', 'entropy']\n",
    "}\n",
    "grid_search_model = GridSearchCV(rfc, param_grid=param_grid, cv=3)\n",
    "grid_search_model.fit(X_train,y_train)\n",
    "\n",
    "grid_search_model.best_params_"
   ]
  },
  {
   "cell_type": "code",
   "execution_count": 52,
   "metadata": {},
   "outputs": [
    {
     "data": {
      "text/plain": [
       "0.8543185747575734"
      ]
     },
     "execution_count": 52,
     "metadata": {},
     "output_type": "execute_result"
    }
   ],
   "source": [
    "rfc1 = RandomForestClassifier(random_state=42,criterion = 'gini',max_depth =3,n_estimators=10, class_weight='balanced')\n",
    "rfc1.fit(X_train, y_train)\n",
    "y_pred_rf = rfc1.predict(X_test)\n",
    "y_pred_rf_proba = np.array(pd.DataFrame(rfc1.predict_proba(X_test)).iloc[:,1])\n",
    "rfc1.score(X_test,y_test)"
   ]
  },
  {
   "cell_type": "code",
   "execution_count": 53,
   "metadata": {},
   "outputs": [
    {
     "name": "stdout",
     "output_type": "stream",
     "text": [
      "Report for randomforest model\n",
      "               precision    recall  f1-score   support\n",
      "\n",
      "           0       0.99      0.86      0.92     13091\n",
      "           1       0.07      0.61      0.12       212\n",
      "\n",
      "    accuracy                           0.85     13303\n",
      "   macro avg       0.53      0.73      0.52     13303\n",
      "weighted avg       0.98      0.85      0.91     13303\n",
      "\n",
      "ROC AUC score for randomforest model is  0.7805081411253303\n",
      "precision Score for randomforest model is 0.9778839770602477\n",
      "recall Score for randomforest model is 0.8543185747575734\n",
      "f1 Score for randomforest model is 0.9078075842668195\n"
     ]
    }
   ],
   "source": [
    "precision_rf=precision_score(y_test,y_pred_rf,average='weighted')\n",
    "recall_rf=recall_score(y_test,y_pred_rf,average='weighted')\n",
    "f1_rf=f1_score(y_test,y_pred_rf,average='weighted')\n",
    "roc_rf=roc_auc_score(y_test,y_pred_rf_proba)\n",
    "print('Report for randomforest model\\n',classification_report(y_test,y_pred_rf))\n",
    "print('ROC AUC score for randomforest model is ',roc_rf)\n",
    "print('precision Score for randomforest model is',precision_rf)\n",
    "print('recall Score for randomforest model is',recall_rf)\n",
    "print('f1 Score for randomforest model is',f1_rf)"
   ]
  },
  {
   "cell_type": "code",
   "execution_count": 54,
   "metadata": {},
   "outputs": [
    {
     "name": "stdout",
     "output_type": "stream",
     "text": [
      "Confusion Matrix for randomforest model\n",
      "tp fp\n",
      "129 1855 \n",
      "\n",
      "fn tn\n",
      "83 11236\n"
     ]
    }
   ],
   "source": [
    "tn,fp,fn,tp = confusion_matrix(y_test,y_pred_rf).ravel()\n",
    "print('Confusion Matrix for randomforest model')\n",
    "print('tp','fp')\n",
    "print(tp,fp,'\\n')\n",
    "print('fn','tn')\n",
    "print(fn,tn)"
   ]
  },
  {
   "cell_type": "code",
   "execution_count": 55,
   "metadata": {},
   "outputs": [
    {
     "data": {
      "text/plain": [
       "0.8664962790348042"
      ]
     },
     "execution_count": 55,
     "metadata": {},
     "output_type": "execute_result"
    }
   ],
   "source": [
    "# Bagging\n",
    "\n",
    "bagging_clf = BaggingClassifier(rfc1, random_state=42,n_estimators=100,max_samples=11800)\n",
    "bagging_clf.fit(X_train,y_train)\n",
    "y_pred_bagging = bagging_clf.predict(X_test)\n",
    "y_pred_bagging_proba = np.array(pd.DataFrame(bagging_clf.predict_proba(X_test)).iloc[:,1])\n",
    "bagging_clf.score(X_test,y_test)"
   ]
  },
  {
   "cell_type": "code",
   "execution_count": 56,
   "metadata": {},
   "outputs": [
    {
     "name": "stdout",
     "output_type": "stream",
     "text": [
      "Report for bagging model\n",
      "               precision    recall  f1-score   support\n",
      "\n",
      "           0       0.99      0.87      0.93     13091\n",
      "           1       0.07      0.59      0.12       212\n",
      "\n",
      "    accuracy                           0.87     13303\n",
      "   macro avg       0.53      0.73      0.53     13303\n",
      "weighted avg       0.98      0.87      0.91     13303\n",
      "\n",
      "ROC AUC score for bagging model is  0.7876666671470967\n",
      "precision Score for bagging model is 0.9778020405628922\n",
      "recall Score for bagging model is 0.8664962790348042\n",
      "f1 Score for bagging model is 0.9149357949475867\n"
     ]
    }
   ],
   "source": [
    "precision_bagging=precision_score(y_test,y_pred_bagging,average='weighted')\n",
    "recall_bagging=recall_score(y_test,y_pred_bagging,average='weighted')\n",
    "f1_bagging=f1_score(y_test,y_pred_bagging,average='weighted')\n",
    "roc_bagging=roc_auc_score(y_test,y_pred_bagging_proba)\n",
    "print('Report for bagging model\\n',classification_report(y_test,y_pred_bagging))\n",
    "print('ROC AUC score for bagging model is ',roc_bagging)\n",
    "print('precision Score for bagging model is',precision_bagging)\n",
    "print('recall Score for bagging model is',recall_bagging)\n",
    "print('f1 Score for bagging model is',f1_bagging)"
   ]
  },
  {
   "cell_type": "code",
   "execution_count": 57,
   "metadata": {},
   "outputs": [
    {
     "name": "stdout",
     "output_type": "stream",
     "text": [
      "Confusion Matrix for bagging model\n",
      "tp fp\n",
      "126 1690 \n",
      "\n",
      "fn tn\n",
      "86 11401\n"
     ]
    }
   ],
   "source": [
    "tn,fp,fn,tp = confusion_matrix(y_test,y_pred_bagging).ravel()\n",
    "print('Confusion Matrix for bagging model')\n",
    "print('tp','fp')\n",
    "print(tp,fp,'\\n')\n",
    "print('fn','tn')\n",
    "print(fn,tn)"
   ]
  },
  {
   "cell_type": "code",
   "execution_count": 58,
   "metadata": {},
   "outputs": [
    {
     "data": {
      "text/plain": [
       "0.7055108075114258"
      ]
     },
     "execution_count": 58,
     "metadata": {},
     "output_type": "execute_result"
    }
   ],
   "source": [
    "# AdaBoost\n",
    "\n",
    "parameters={'learning_rate':[0.1,0.3,0.6,0.8,1.0],'n_estimators':[50,100,150]}\n",
    "\n",
    "dt_clf=DecisionTreeClassifier(criterion='gini',random_state = 12,max_depth=1,class_weight='balanced')\n",
    "ada_clf = AdaBoostClassifier(base_estimator=dt,random_state=42)\n",
    "\n",
    "clf_model_ada=GridSearchCV(estimator=ada_clf,param_grid=parameters,scoring='roc_auc')\n",
    "clf_model_ada.fit(X_train,y_train)\n",
    "y_pred_ada_gs=clf_model_ada.predict(X_test)\n",
    "y_pred_ada_gs_proba = np.array(pd.DataFrame(clf_model_ada.predict_proba(X_test)).iloc[:,1])\n",
    "clf_model_ada.score(X_test,y_test)"
   ]
  },
  {
   "cell_type": "code",
   "execution_count": 59,
   "metadata": {},
   "outputs": [
    {
     "data": {
      "text/plain": [
       "{'learning_rate': 0.1, 'n_estimators': 50}"
      ]
     },
     "execution_count": 59,
     "metadata": {},
     "output_type": "execute_result"
    }
   ],
   "source": [
    "clf_model_ada.best_params_"
   ]
  },
  {
   "cell_type": "code",
   "execution_count": 60,
   "metadata": {},
   "outputs": [
    {
     "name": "stdout",
     "output_type": "stream",
     "text": [
      "Report for AdaBoost model\n",
      "               precision    recall  f1-score   support\n",
      "\n",
      "           0       0.98      0.99      0.99     13091\n",
      "           1       0.03      0.03      0.03       212\n",
      "\n",
      "    accuracy                           0.97     13303\n",
      "   macro avg       0.51      0.51      0.51     13303\n",
      "weighted avg       0.97      0.97      0.97     13303\n",
      "\n",
      "ROC AUC score for AdaBoost model is  0.7055097265440897\n",
      "precision Score for AdaBoost model is 0.9691115877624988\n",
      "recall Score for AdaBoost model is 0.9707584755318349\n",
      "f1 Score for AdaBoost model is 0.9699327107680308\n"
     ]
    }
   ],
   "source": [
    "precision_AdaBoost=precision_score(y_test,y_pred_ada_gs,average='weighted')\n",
    "recall_AdaBoost=recall_score(y_test,y_pred_ada_gs,average='weighted')\n",
    "f1_AdaBoost=f1_score(y_test,y_pred_ada_gs,average='weighted')\n",
    "roc_AdaBoost=roc_auc_score(y_test,y_pred_ada_gs_proba)\n",
    "print('Report for AdaBoost model\\n',classification_report(y_test,y_pred_ada_gs))\n",
    "print('ROC AUC score for AdaBoost model is ',roc_AdaBoost)\n",
    "print('precision Score for AdaBoost model is',precision_AdaBoost)\n",
    "print('recall Score for AdaBoost model is',recall_AdaBoost)\n",
    "print('f1 Score for AdaBoost model is',f1_AdaBoost)"
   ]
  },
  {
   "cell_type": "code",
   "execution_count": 61,
   "metadata": {},
   "outputs": [
    {
     "name": "stdout",
     "output_type": "stream",
     "text": [
      "Confusion Matrix for AdaBoost model\n",
      "tp fp\n",
      "6 183 \n",
      "\n",
      "fn tn\n",
      "206 12908\n"
     ]
    }
   ],
   "source": [
    "tn,fp,fn,tp = confusion_matrix(y_test,y_pred_ada_gs).ravel()\n",
    "print('Confusion Matrix for AdaBoost model')\n",
    "print('tp','fp')\n",
    "print(tp,fp,'\\n')\n",
    "print('fn','tn')\n",
    "print(fn,tn)"
   ]
  },
  {
   "cell_type": "code",
   "execution_count": 62,
   "metadata": {},
   "outputs": [
    {
     "data": {
      "text/plain": [
       "0.7998021469452584"
      ]
     },
     "execution_count": 62,
     "metadata": {},
     "output_type": "execute_result"
    }
   ],
   "source": [
    "# Xgb\n",
    "\n",
    "parameters={'learning_rate':[0.1,0.3,0.6,0.8,1.0],\n",
    "            'max_depth':range(1,4),'n_estimators':[50,100,150]}\n",
    "xgb_clf=XGBClassifier(random_state=42,scale_pos_weight = 34881/589)\n",
    "\n",
    "clf_model_xgb=GridSearchCV(estimator=xgb_clf,param_grid=parameters,scoring='roc_auc')\n",
    "clf_model_xgb.fit(X_train,y_train)\n",
    "y_pred_xgb_gs=clf_model_xgb.predict(X_test)\n",
    "y_pred_xgb_gs_proba = np.array(pd.DataFrame(clf_model_xgb.predict_proba(X_test)).iloc[:,1])\n",
    "clf_model_xgb.score(X_test,y_test)"
   ]
  },
  {
   "cell_type": "code",
   "execution_count": 63,
   "metadata": {},
   "outputs": [
    {
     "data": {
      "text/plain": [
       "{'learning_rate': 0.1, 'max_depth': 1, 'n_estimators': 50}"
      ]
     },
     "execution_count": 63,
     "metadata": {},
     "output_type": "execute_result"
    }
   ],
   "source": [
    "clf_model_xgb.best_params_"
   ]
  },
  {
   "cell_type": "code",
   "execution_count": 64,
   "metadata": {},
   "outputs": [],
   "source": [
    "xgb_clf=XGBClassifier(random_state=42,scale_pos_weight = 34881/589,learning_rate= 0.1, max_depth= 1, n_estimators= 150)\n",
    "xgb_clf.fit(X_train,y_train)\n",
    "xgb_pred = xgb_clf.predict(X_test)"
   ]
  },
  {
   "cell_type": "code",
   "execution_count": 65,
   "metadata": {},
   "outputs": [
    {
     "name": "stdout",
     "output_type": "stream",
     "text": [
      "Report for xgb model\n",
      "               precision    recall  f1-score   support\n",
      "\n",
      "           0       0.99      0.82      0.90     13091\n",
      "           1       0.05      0.64      0.10       212\n",
      "\n",
      "    accuracy                           0.81     13303\n",
      "   macro avg       0.52      0.73      0.50     13303\n",
      "weighted avg       0.98      0.81      0.88     13303\n",
      "\n",
      "ROC AUC score for xgb model is  0.7998021469452584\n",
      "precision Score for xgb model is 0.9779791319031285\n",
      "recall Score for xgb model is 0.8144027662933173\n",
      "f1 Score for xgb model is 0.8838369319985139\n"
     ]
    }
   ],
   "source": [
    "precision_xgb=precision_score(y_test,y_pred_xgb_gs,average='weighted')\n",
    "recall_xgb=recall_score(y_test,y_pred_xgb_gs,average='weighted')\n",
    "f1_xgb=f1_score(y_test,y_pred_xgb_gs,average='weighted')\n",
    "roc_xgb=roc_auc_score(y_test,y_pred_xgb_gs_proba)\n",
    "print('Report for xgb model\\n',classification_report(y_test,y_pred_xgb_gs))\n",
    "print('ROC AUC score for xgb model is ',roc_xgb)\n",
    "print('precision Score for xgb model is',precision_xgb)\n",
    "print('recall Score for xgb model is',recall_xgb)\n",
    "print('f1 Score for xgb model is',f1_xgb)"
   ]
  },
  {
   "cell_type": "code",
   "execution_count": 66,
   "metadata": {},
   "outputs": [
    {
     "name": "stdout",
     "output_type": "stream",
     "text": [
      "Confusion Matrix for xgb model\n",
      "tp fp\n",
      "136 2393 \n",
      "\n",
      "fn tn\n",
      "76 10698\n"
     ]
    }
   ],
   "source": [
    "tn,fp,fn,tp = confusion_matrix(y_test,y_pred_xgb_gs).ravel()\n",
    "print('Confusion Matrix for xgb model')\n",
    "print('tp','fp')\n",
    "print(tp,fp,'\\n')\n",
    "print('fn','tn')\n",
    "print(fn,tn)"
   ]
  },
  {
   "cell_type": "code",
   "execution_count": 67,
   "metadata": {},
   "outputs": [
    {
     "data": {
      "text/plain": [
       "0.8455235661129069"
      ]
     },
     "execution_count": 67,
     "metadata": {},
     "output_type": "execute_result"
    }
   ],
   "source": [
    "# SVC\n",
    "\n",
    "svc = SVC(class_weight='balanced',probability=True)\n",
    "svc.fit(X_train, y_train)\n",
    "svc_pred = svc.predict(X_test)\n",
    "svc_pred_proba = svc.predict_proba(X_test)\n",
    "svc.score(X_test,y_test)"
   ]
  },
  {
   "cell_type": "code",
   "execution_count": 68,
   "metadata": {},
   "outputs": [
    {
     "name": "stdout",
     "output_type": "stream",
     "text": [
      "Report for SVC model\n",
      "               precision    recall  f1-score   support\n",
      "\n",
      "           0       0.99      0.85      0.92     13091\n",
      "           1       0.06      0.63      0.12       212\n",
      "\n",
      "    accuracy                           0.85     13303\n",
      "   macro avg       0.53      0.74      0.52     13303\n",
      "weighted avg       0.98      0.85      0.90     13303\n",
      "\n",
      "ROC AUC score for SVC model is  0.7847208509951384\n",
      "precision Score for SVC model is 0.9782171312818675\n",
      "recall Score for SVC model is 0.8455235661129069\n",
      "f1 Score for SVC model is 0.9026238135646832\n"
     ]
    }
   ],
   "source": [
    "precision_SVC=precision_score(y_test,svc_pred,average='weighted')\n",
    "recall_SVC=recall_score(y_test,svc_pred,average='weighted')\n",
    "f1_SVC=f1_score(y_test,svc_pred,average='weighted')\n",
    "roc_SVC=roc_auc_score(y_test,svc_pred_proba[:,1])\n",
    "print('Report for SVC model\\n',classification_report(y_test,svc_pred))\n",
    "print('ROC AUC score for SVC model is ',roc_SVC)\n",
    "print('precision Score for SVC model is',precision_SVC)\n",
    "print('recall Score for SVC model is',recall_SVC)\n",
    "print('f1 Score for SVC model is',f1_SVC)"
   ]
  },
  {
   "cell_type": "code",
   "execution_count": 69,
   "metadata": {},
   "outputs": [
    {
     "name": "stdout",
     "output_type": "stream",
     "text": [
      "Confusion Matrix for SVC model\n",
      "tp fp\n",
      "134 1977 \n",
      "\n",
      "fn tn\n",
      "78 11114\n"
     ]
    }
   ],
   "source": [
    "tn,fp,fn,tp = confusion_matrix(y_test,svc_pred).ravel()\n",
    "print('Confusion Matrix for SVC model')\n",
    "print('tp','fp')\n",
    "print(tp,fp,'\\n')\n",
    "print('fn','tn')\n",
    "print(fn,tn)"
   ]
  },
  {
   "cell_type": "code",
   "execution_count": 70,
   "metadata": {},
   "outputs": [
    {
     "data": {
      "text/html": [
       "<div>\n",
       "<style scoped>\n",
       "    .dataframe tbody tr th:only-of-type {\n",
       "        vertical-align: middle;\n",
       "    }\n",
       "\n",
       "    .dataframe tbody tr th {\n",
       "        vertical-align: top;\n",
       "    }\n",
       "\n",
       "    .dataframe thead th {\n",
       "        text-align: right;\n",
       "    }\n",
       "</style>\n",
       "<table border=\"1\" class=\"dataframe\">\n",
       "  <thead>\n",
       "    <tr style=\"text-align: right;\">\n",
       "      <th></th>\n",
       "      <th>Models</th>\n",
       "      <th>Precision Score</th>\n",
       "      <th>Recall Score</th>\n",
       "      <th>F1 Score</th>\n",
       "      <th>ROC score</th>\n",
       "    </tr>\n",
       "  </thead>\n",
       "  <tbody>\n",
       "    <tr>\n",
       "      <th>0</th>\n",
       "      <td>Logistic Regression</td>\n",
       "      <td>0.979181</td>\n",
       "      <td>0.785086</td>\n",
       "      <td>0.865584</td>\n",
       "      <td>0.800103</td>\n",
       "    </tr>\n",
       "    <tr>\n",
       "      <th>1</th>\n",
       "      <td>Decision Tree</td>\n",
       "      <td>0.969855</td>\n",
       "      <td>0.966624</td>\n",
       "      <td>0.968228</td>\n",
       "      <td>0.521259</td>\n",
       "    </tr>\n",
       "    <tr>\n",
       "      <th>2</th>\n",
       "      <td>Random Forest</td>\n",
       "      <td>0.977884</td>\n",
       "      <td>0.854319</td>\n",
       "      <td>0.907808</td>\n",
       "      <td>0.780508</td>\n",
       "    </tr>\n",
       "    <tr>\n",
       "      <th>3</th>\n",
       "      <td>Bagging</td>\n",
       "      <td>0.977802</td>\n",
       "      <td>0.866496</td>\n",
       "      <td>0.914936</td>\n",
       "      <td>0.787667</td>\n",
       "    </tr>\n",
       "    <tr>\n",
       "      <th>4</th>\n",
       "      <td>AdaBoost</td>\n",
       "      <td>0.969112</td>\n",
       "      <td>0.970758</td>\n",
       "      <td>0.969933</td>\n",
       "      <td>0.705510</td>\n",
       "    </tr>\n",
       "    <tr>\n",
       "      <th>5</th>\n",
       "      <td>xgb</td>\n",
       "      <td>0.977979</td>\n",
       "      <td>0.814403</td>\n",
       "      <td>0.883837</td>\n",
       "      <td>0.799802</td>\n",
       "    </tr>\n",
       "    <tr>\n",
       "      <th>6</th>\n",
       "      <td>SVC</td>\n",
       "      <td>0.978217</td>\n",
       "      <td>0.845524</td>\n",
       "      <td>0.902624</td>\n",
       "      <td>0.784721</td>\n",
       "    </tr>\n",
       "  </tbody>\n",
       "</table>\n",
       "</div>"
      ],
      "text/plain": [
       "                Models  Precision Score  Recall Score  F1 Score  ROC score\n",
       "0  Logistic Regression         0.979181      0.785086  0.865584   0.800103\n",
       "1        Decision Tree         0.969855      0.966624  0.968228   0.521259\n",
       "2        Random Forest         0.977884      0.854319  0.907808   0.780508\n",
       "3              Bagging         0.977802      0.866496  0.914936   0.787667\n",
       "4             AdaBoost         0.969112      0.970758  0.969933   0.705510\n",
       "5                  xgb         0.977979      0.814403  0.883837   0.799802\n",
       "6                  SVC         0.978217      0.845524  0.902624   0.784721"
      ]
     },
     "execution_count": 70,
     "metadata": {},
     "output_type": "execute_result"
    }
   ],
   "source": [
    "Models = ['Logistic Regression','Decision Tree','Random Forest','Bagging','AdaBoost','xgb','SVC']\n",
    "Precision_score = [precision_lr, precision_dt, precision_rf, precision_bagging, precision_AdaBoost, precision_xgb, precision_SVC]\n",
    "F1_score = [f1_lr, f1_dt, f1_rf, f1_bagging, f1_AdaBoost, f1_xgb, f1_SVC]\n",
    "Recall_score = [recall_lr, recall_dt, recall_rf, recall_bagging, recall_AdaBoost, recall_xgb, recall_SVC]\n",
    "ROC_score = [roc_lr, roc_dt, roc_rf, roc_bagging, roc_AdaBoost, roc_xgb, roc_SVC]\n",
    "pd.DataFrame({'Models': Models, 'Precision Score': Precision_score,'Recall Score': Recall_score ,'F1 Score' : F1_score,'ROC score': ROC_score })"
   ]
  },
  {
   "cell_type": "code",
   "execution_count": 71,
   "metadata": {},
   "outputs": [],
   "source": [
    "fpr1, tpr1 ,threshold1 = roc_curve(y_test,y_pred_lr_proba)\n",
    "fpr2, tpr2 ,threshold2 = roc_curve(y_test,dt_pred_proba)\n",
    "fpr3, tpr3 ,threshold3 = roc_curve(y_test,y_pred_rf_proba)\n",
    "fpr4, tpr4 ,threshold4 = roc_curve(y_test,y_pred_bagging_proba)\n",
    "fpr5, tpr5 ,threshold5 = roc_curve(y_test,y_pred_ada_gs_proba)\n",
    "fpr6, tpr6 ,threshold6 = roc_curve(y_test,y_pred_xgb_gs_proba)\n",
    "fpr7, tpr7 ,threshold7 = roc_curve(y_test,svc_pred_proba[:,1])"
   ]
  },
  {
   "cell_type": "code",
   "execution_count": 72,
   "metadata": {},
   "outputs": [
    {
     "data": {
      "text/plain": [
       "<matplotlib.legend.Legend at 0x1b066902400>"
      ]
     },
     "execution_count": 72,
     "metadata": {},
     "output_type": "execute_result"
    },
    {
     "data": {
      "image/png": "[encoded data removed]",
      "text/plain": [
       "<Figure size 864x576 with 1 Axes>"
      ]
     },
     "metadata": {
      "needs_background": "light"
     },
     "output_type": "display_data"
    }
   ],
   "source": [
    "plt.figure(figsize=(12,8))\n",
    "plt.title('ROC curve analysis', fontweight='bold', fontsize=15)\n",
    "plt.plot([0,1], [0,1], color='orange', linestyle='--',label='AUC=0.5')\n",
    "plt.legend(loc='best')\n",
    "\n",
    "plt.plot(fpr1,tpr1,label='logistic auc '+\"%.4f\" % roc_auc_score(y_test,y_pred_lr_proba))\n",
    "plt.legend(loc='best')\n",
    "\n",
    "plt.plot(fpr2,tpr2,label='DecisionTree auc '+\"%.4f\" % roc_auc_score(y_test,dt_pred_proba))\n",
    "plt.legend(prop={'size':13}, loc='best')\n",
    "\n",
    "plt.plot(fpr3,tpr3,label='RandomForest auc '+\"%.4f\" % roc_auc_score(y_test,y_pred_rf_proba))\n",
    "plt.legend(prop={'size':13}, loc='best')\n",
    "\n",
    "plt.plot(fpr4,tpr4,label='Bagging auc '+\"%.4f\" % roc_auc_score(y_test,y_pred_bagging_proba))\n",
    "plt.legend(prop={'size':13}, loc='best')\n",
    "\n",
    "plt.plot(fpr5,tpr5,label='AdaBoost auc '+\"%.4f\" % roc_auc_score(y_test,y_pred_ada_gs_proba))\n",
    "plt.legend(prop={'size':13}, loc='best')\n",
    "\n",
    "plt.plot(fpr6,tpr6,label='XGB auc '+\"%.4f\" % roc_auc_score(y_test,y_pred_xgb_gs_proba))\n",
    "plt.legend(prop={'size':13}, loc='best')\n",
    "\n",
    "plt.plot(fpr7,tpr7,label='SVC auc '+\"%.4f\" % roc_auc_score(y_test,svc_pred_proba[:,1]))\n",
    "plt.legend(prop={'size':13}, loc='best')"
   ]
  },
  {
   "cell_type": "code",
   "execution_count": 73,
   "metadata": {},
   "outputs": [],
   "source": [
    "y_pred_test = logreg.predict(df2)\n",
    "df3 = pd.DataFrame({'Claim':np.array(y_pred_test)})"
   ]
  },
  {
   "cell_type": "code",
   "execution_count": 74,
   "metadata": {},
   "outputs": [
    {
     "data": {
      "text/html": [
       "<div>\n",
       "<style scoped>\n",
       "    .dataframe tbody tr th:only-of-type {\n",
       "        vertical-align: middle;\n",
       "    }\n",
       "\n",
       "    .dataframe tbody tr th {\n",
       "        vertical-align: top;\n",
       "    }\n",
       "\n",
       "    .dataframe thead th {\n",
       "        text-align: right;\n",
       "    }\n",
       "</style>\n",
       "<table border=\"1\" class=\"dataframe\">\n",
       "  <thead>\n",
       "    <tr style=\"text-align: right;\">\n",
       "      <th></th>\n",
       "      <th>ID</th>\n",
       "      <th>Claim</th>\n",
       "    </tr>\n",
       "  </thead>\n",
       "  <tbody>\n",
       "    <tr>\n",
       "      <th>0</th>\n",
       "      <td>25902</td>\n",
       "      <td>1</td>\n",
       "    </tr>\n",
       "    <tr>\n",
       "      <th>1</th>\n",
       "      <td>19535</td>\n",
       "      <td>0</td>\n",
       "    </tr>\n",
       "    <tr>\n",
       "      <th>2</th>\n",
       "      <td>43717</td>\n",
       "      <td>0</td>\n",
       "    </tr>\n",
       "    <tr>\n",
       "      <th>3</th>\n",
       "      <td>48271</td>\n",
       "      <td>0</td>\n",
       "    </tr>\n",
       "    <tr>\n",
       "      <th>4</th>\n",
       "      <td>52318</td>\n",
       "      <td>0</td>\n",
       "    </tr>\n",
       "  </tbody>\n",
       "</table>\n",
       "</div>"
      ],
      "text/plain": [
       "      ID  Claim\n",
       "0  25902      1\n",
       "1  19535      0\n",
       "2  43717      0\n",
       "3  48271      0\n",
       "4  52318      0"
      ]
     },
     "execution_count": 74,
     "metadata": {},
     "output_type": "execute_result"
    }
   ],
   "source": [
    "test_dataset = pd.concat([data_test1,df3],axis=1,sort=False)\n",
    "test_dataset.head()"
   ]
  },
  {
   "cell_type": "code",
   "execution_count": 75,
   "metadata": {},
   "outputs": [
    {
     "data": {
      "text/plain": [
       "0    10015\n",
       "1     2646\n",
       "Name: Claim, dtype: int64"
      ]
     },
     "execution_count": 75,
     "metadata": {},
     "output_type": "execute_result"
    }
   ],
   "source": [
    "test_dataset['Claim'].value_counts()"
   ]
  },
  {
   "cell_type": "code",
   "execution_count": 76,
   "metadata": {},
   "outputs": [],
   "source": [
    "# Submission CSV file\n",
    "submit = test_dataset\n",
    "submit.to_csv('Final submission.csv', index = False)"
   ]
  },
  {
   "cell_type": "code",
   "execution_count": null,
   "metadata": {},
   "outputs": [],
   "source": []
  }
 ],
 "metadata": {
  "kernelspec": {
   "display_name": "Python 3",
   "language": "python",
   "name": "python3"
  },
  "language_info": {
   "codemirror_mode": {
    "name": "ipython",
    "version": 3
   },
   "file_extension": ".py",
   "mimetype": "text/x-python",
   "name": "python",
   "nbconvert_exporter": "python",
   "pygments_lexer": "ipython3",
   "version": "3.7.3"
  }
 },
 "nbformat": 4,
 "nbformat_minor": 2
}
